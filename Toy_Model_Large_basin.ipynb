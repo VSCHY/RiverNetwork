{
  "nbformat": 4,
  "nbformat_minor": 0,
  "metadata": {
    "colab": {
      "name": "Toy_Model_Large basin.ipynb",
      "provenance": [],
      "collapsed_sections": [],
      "authorship_tag": "ABX9TyPaCs/bVSPR+xgwuoj3VSWG",
      "include_colab_link": true
    },
    "kernelspec": {
      "name": "python3",
      "display_name": "Python 3"
    }
  },
  "cells": [
    {
      "cell_type": "markdown",
      "metadata": {
        "id": "view-in-github",
        "colab_type": "text"
      },
      "source": [
        "<a href=\"https://colab.research.google.com/github/VSCHY/RiverNetwork/blob/master/Toy_Model_Large_basin.ipynb\" target=\"_parent\"><img src=\"https://colab.research.google.com/assets/colab-badge.svg\" alt=\"Open In Colab\"/></a>"
      ]
    },
    {
      "cell_type": "markdown",
      "metadata": {
        "id": "vgMP4F0oLFbK"
      },
      "source": [
        "<h1> Description of the toy model </h1>\n",
        "<hr>\n",
        "\n",
        "<center>\n",
        "\n",
        "![image](https://drive.google.com/uc?export=view&id=1TAd3t-rDnwhBaIuISNdxclXb4WLElJsz)\n",
        "\n",
        "<em>Figure 1: Description of the HTUs toy model in series </em>\n",
        "</center>\n",
        "\n",
        "River dynamic Parameter : \n",
        "*   tcst : time constant of the reservoir\n",
        "*   topoindex\n",
        "\n",
        "In this model we consider a basic time unit = 1. Then the subdivision of the time unit are defined by subdt. For exemple, subdt = 2 corresponds to two time step inside the basic unit, i.e. a time step of 0.5.\n",
        "\n",
        "Time parameters :\n",
        "*   niter : number of iteration\n",
        "*   subdt : number of subdivision of 1 time unit\n",
        "\n",
        "Formula to define the discharge out of i : \n",
        "\n",
        "Qi = 1/(tcst*topoindex)*Vi * dt\n",
        "\n",
        "The outflow discharge is Qout = Qnhtus"
      ]
    },
    {
      "cell_type": "code",
      "metadata": {
        "id": "yQH2nOs6tWUK"
      },
      "source": [
        "import numpy as np\n",
        "import matplotlib.pyplot as plt\n",
        "\n",
        "class experiment:\n",
        "  def __init__(self, D, V= None, Qin = 0):\n",
        "    \"\"\"\n",
        "    D : Initialization of the parameters values from the dictionnary\n",
        "    V : Array with the initial state of the different reservoir (possible to describe as a list)\n",
        "    Qin : inflow in the first reservoi\n",
        "    \"\"\"\n",
        "    self.tcst = D[\"tcst\"]\n",
        "    self.topoindex = D[\"topoindex\"]\n",
        "    self.nhtus = D[\"nhtus\"]\n",
        "    # \n",
        "    self.subdt =D[\"subdt\"]\n",
        "    # subdt describe the time step, it is the number of division of the basic time step   \n",
        "    self.dt = 1/self.subdt\n",
        "    # \n",
        "    self.niter = D[\"niter\"] \n",
        "    self.f_cst = 1/(self.tcst * self.topoindex)\n",
        "    self.init_var()\n",
        "    if V is not None:\n",
        "        self.V[:] = V\n",
        "    self.Qin = Qin\n",
        "\n",
        "  def init_var(self):\n",
        "    \"\"\"\n",
        "    Initialization of volume and discharge for each reservoir\n",
        "    \"\"\"\n",
        "    self.V = np.zeros((self.nhtus))\n",
        "    self.Q = np.zeros((self.nhtus))  \n",
        "  \n",
        "  def launch(self, volume_hist = False):\n",
        "     \"\"\"\n",
        "     Run the experiment, the output are the mean discharge over each basic unit of time\n",
        "     and for each iteration\n",
        "     \"\"\"\n",
        "     if volume_hist: hist_V = np.zeros((self.nhtus, self.subdt*self.niter))\n",
        "     hist_out = np.zeros(self.subdt*self.niter)\n",
        "     for it in range(self.niter):\n",
        "        for t in range(self.subdt):\n",
        "          if volume_hist: hist_V[:, it * self.subdt + t] = self.V[:]\n",
        "          temp = np.zeros((2,self.V.shape[0]))\n",
        "          temp[0,:] = self.V*self.f_cst*self.dt; temp[1,:] = self.V\n",
        "          self.Q = np.min(temp, axis = 0)\n",
        "\n",
        "          self.V = self.V-self.Q\n",
        "          hist_out[it * self.subdt + t] = self.Q[-1]\n",
        "          self.V[1:] += self.Q[:-1]\n",
        "          self.V[0] += self.Qin\n",
        "\n",
        "     # Mean de subdt sur les subdt\n",
        "     hist_out = np.mean(np.reshape(hist_out, (-1,self.subdt)), axis = 1)\n",
        "     if volume_hist: \n",
        "        hist_V = np.mean(np.reshape(hist_V, (self.nhtus,-1,self.subdt)), axis = 2)\n",
        "        return hist_out, hist_V\n",
        "     else:\n",
        "        return hist_out\n",
        "\n",
        "####\n",
        "\n",
        "def get_param(tcst = 0.0035, topoindex = 300, nhtus = 1, subdt = 1, niter = 1000):\n",
        "    \"\"\"\n",
        "    Function to define the Dictionnary parameters.\n",
        "    This is simplified by using default values.\n",
        "    \"\"\"\n",
        "    D = {\"tcst\": tcst, \"topoindex\":topoindex, \"nhtus\" :nhtus, \"subdt\":subdt,  \"niter\":niter}\n",
        "    return D"
      ],
      "execution_count": 1,
      "outputs": []
    },
    {
      "cell_type": "markdown",
      "metadata": {
        "id": "E3EnZwF9umZX"
      },
      "source": [
        "<h1> Large river example </h1>\n",
        "<hr>\n",
        "Let's consider a large river with a regular decomposition in HTUs :\n",
        "the length of the river is 3000km with a 4 km difference of altitude. \n",
        "The topoindex is adjusted to the number of HTUs considered. \n",
        "\n",
        "In this first example we consider a subdt = 3, tcst = 0.035 and a number of htus between 2000 and 9000."
      ]
    },
    {
      "cell_type": "code",
      "metadata": {
        "id": "UbRSP_EfuVT7",
        "outputId": "a01a2cdc-7119-4b61-a291-f0710f66b70d",
        "colab": {
          "base_uri": "https://localhost:8080/",
          "height": 314
        }
      },
      "source": [
        "# Experiment\n",
        "\"\"\"\n",
        "We take subdt = 3. The volume are set at equelibrium for a Qin = 1000.\n",
        "The simulation have Qin = 0 -> let see how the htus will empty\n",
        "\"\"\"\n",
        "\n",
        "# Qinit = V*1/(self.tcst * self.topoindex)*dt\n",
        "# 30 000 * self.tcst * self.topoindex / dt  = V \n",
        "\n",
        "length = 3000 #(km)\n",
        "dz = 4 #(km)\n",
        "t0 = length/1000/np.sqrt((dz/length))\n",
        "tcst = 0.035\n",
        "subdt = 3\n",
        "Lout = []; Lname = []\n",
        "for nhtus in np.arange(2000,10000,1000):\n",
        "      topoindex = length/nhtus/np.sqrt((dz/length))\n",
        "      V0 =  3000 * tcst * topoindex * subdt\n",
        "      exp0 = experiment(get_param(subdt = subdt,  topoindex = topoindex, tcst = tcst, nhtus = nhtus, niter = 4000), [V0]*nhtus)\n",
        "      Lout.append(exp0.launch()); Lname.append(\"nhtus = {0}, subdt = {1}\".format(nhtus, subdt))\n",
        "\n",
        "for i in range(len(Lout)):\n",
        "    plt.plot(Lout[i][2500:3500], label = Lname[i])\n",
        "plt.ylabel(\"Qout\")\n",
        "plt.xlabel(\"basic time unit\")\n",
        "plt.legend()\n",
        "plt.show()\n",
        "\"\"\"\n",
        "D = {}\n",
        "for subdt in [3,5,10,15,20]: \n",
        "  Lout = []; Lname = []\n",
        "  for nhtus in np.arange(1000,22000,5000):\n",
        "      topoindex = length/nhtus/np.sqrt((dz/length))\n",
        "      exp0 = experiment(get_param(subdt = subdt,  topoindex = topoindex, nhtus = nhtus, niter = 10000), [90000*topoindex/t0]*nhtus)\n",
        "      Lout.append(exp0.launch()); Lname.append(\"nhtus = {0}, subdt = {1}\".format(nhtus, subdt))\n",
        "\n",
        "  for i in range(len(Lout)):\n",
        "    plt.plot(Lout[i][:], label = Lname[i])\n",
        "  plt.ylabel(\"Qout\")\n",
        "  plt.xlabel(\"basic time unit\")\n",
        "  plt.legend()\n",
        "  plt.show()\n",
        "\n",
        "  D[subdt] = [np.argmin(np.abs(Lout[i][:]-5000)) for i in range(len(Lout))]\n",
        "\"\"\"\n",
        "# Voir quand c'est égal à 5000\n",
        "\n",
        "\n",
        "\n",
        "\"\"\"\n",
        "########################\n",
        "m = [\"o\", \"s\", \".\", \"s\",\"^\", \">\"]\n",
        "# plt.plot avec les différent dt pour chaque ligne en axe x\n",
        "# en y le tau \n",
        "for subdt in D.keys():\n",
        "  plt.scatter(np.arange(1000,22000,5000), D[subdt], marker = m[subdt])\n",
        "\"\"\""
      ],
      "execution_count": 8,
      "outputs": [
        {
          "output_type": "display_data",
          "data": {
            "image/png": "[encoded data removed]",
            "text/plain": [
              "<Figure size 432x288 with 1 Axes>"
            ]
          },
          "metadata": {
            "tags": [],
            "needs_background": "light"
          }
        },
        {
          "output_type": "execute_result",
          "data": {
            "application/vnd.google.colaboratory.intrinsic+json": {
              "type": "string"
            },
            "text/plain": [
              "'\\n########################\\nm = [\"o\", \"s\", \".\", \"s\",\"^\", \">\"]\\n# plt.plot avec les différent dt pour chaque ligne en axe x\\n# en y le tau \\nfor subdt in D.keys():\\n  plt.scatter(np.arange(1000,22000,5000), D[subdt], marker = m[subdt])\\n'"
            ]
          },
          "metadata": {
            "tags": []
          },
          "execution_count": 8
        }
      ]
    },
    {
      "cell_type": "markdown",
      "metadata": {
        "id": "I6s_rjqqfHSZ"
      },
      "source": [
        "<h2> Conclusion </h2>\n",
        "The simulations have a different behaviour, the higher the number of HTUs the later the reaction to Qin = 0 in the beginning of the river.\n",
        "At some point the evolution of Qout is too strong, such as with nhtus = 9000.\n",
        "\n",
        "In reality, the river may face many variations, and the system will \"absorb\" these variations.\n",
        "\n",
        "We may observe 2 indexes : the time to reach 66% of the initial Qin and the time to reach 33%."
      ]
    },
    {
      "cell_type": "markdown",
      "metadata": {
        "id": "esmGav8lg7cu"
      },
      "source": [
        "<h2> Second part </h2>"
      ]
    },
    {
      "cell_type": "code",
      "metadata": {
        "id": "ILJZCfppfL_f",
        "outputId": "45b60d9f-705a-44b5-c291-957274869b1d",
        "colab": {
          "base_uri": "https://localhost:8080/",
          "height": 319
        }
      },
      "source": [
        "# Experiment\n",
        "\"\"\"\n",
        "FIRST TRY with subdt = 3 and subdt = 5\n",
        "\"\"\"\n",
        "\n",
        "# Qinit = V*1/(self.tcst * self.topoindex)*dt\n",
        "# 30 000 * self.tcst * self.topoindex / dt  = V \n",
        "def get_config(length = 3000, dz = 4, tcst = 0.035, subdt = 3):\n",
        "  config = {\"length\" : length, \"dz\" : dz, \"tcst\" : tcst, \"subdt\" : subdt}\n",
        "  return config\n",
        "\n",
        "def make_experiment(config, Lnhtus):\n",
        "  Lout = []\n",
        "  for nhtus in Lnhtus:\n",
        "      topoindex = length/nhtus/np.sqrt((dz/length))\n",
        "      # Qinit = V*1/(self.tcst * self.topoindex)*dt\n",
        "      Qinit = 3000 \n",
        "      V0 =  Qinit * tcst * topoindex * subdt \n",
        "      exp0 = experiment(get_param(subdt = subdt,  topoindex = topoindex, tcst = tcst, nhtus = nhtus, niter = 4000), [V0]*nhtus)\n",
        "      Lout.append(exp0.launch()); Lname.append(\"nhtus = {0}, subdt = {1}\".format(nhtus, subdt))\n",
        "  return Lout\n",
        "\n",
        "D1 = {}\n",
        "D2 = {}\n",
        "Lnhtus = np.arange(1000,10000,1000)\n",
        "print(\"Start running\")\n",
        "for subdt in [3,5]: \n",
        "  print(\"subdt: {0}\".format(subdt))\n",
        "  config = get_config(subdt = subdt)\n",
        "  Lout = make_experiment(config, Lnhtus)\n",
        "  D1[subdt] = [np.argmin(np.abs(Lout[i][:]-2000)) for i in range(len(Lout))]\n",
        "  D2[subdt] = [np.argmin(np.abs(Lout[i][:]-1000)) for i in range(len(Lout))]\n",
        "  #\n",
        "\n",
        "for subdt in [3, 5]:\n",
        "  plt.scatter(Lnhtus, D1[subdt], label = \"subdt = {0}\".format(subdt))\n",
        "plt.legend()\n",
        "plt.show()"
      ],
      "execution_count": 17,
      "outputs": [
        {
          "output_type": "stream",
          "text": [
            "Start running\n",
            "subdt: 3\n",
            "subdt: 5\n"
          ],
          "name": "stdout"
        },
        {
          "output_type": "display_data",
          "data": {
            "image/png": "[encoded data removed]",
            "text/plain": [
              "<Figure size 432x288 with 1 Axes>"
            ]
          },
          "metadata": {
            "tags": [],
            "needs_background": "light"
          }
        }
      ]
    },
    {
      "cell_type": "markdown",
      "metadata": {
        "id": "3-RaY0jwlxyx"
      },
      "source": [
        "Both simulations are really close one to another except for subdt = 3 and nhtus = 9000. This example was unstable with an abrubt change and thus = 0.\n",
        "This unstability is resolved at subdt = 5. \n",
        "\n",
        "For the following experiences we may limit nhtus to 8000.\n",
        "\n",
        "**NOTATION**\n",
        "\n",
        "*   T1 : Time at Q = 2/3 Qin(t=0)\n",
        "*   T2 : Time at Q = 1/3 Qin(t=0)\n",
        "\n"
      ]
    },
    {
      "cell_type": "code",
      "metadata": {
        "id": "ANPB_zMvmLWg",
        "outputId": "6680f22f-46b7-4c5e-ea67-dac873933934",
        "colab": {
          "base_uri": "https://localhost:8080/",
          "height": 453
        }
      },
      "source": [
        "# Experiment\n",
        "\"\"\"\n",
        "FIRST TRY with subdt = 3 and subdt = 5\n",
        "\"\"\"\n",
        "\n",
        "# Qinit = V*1/(self.tcst * self.topoindex)*dt\n",
        "# 30 000 * self.tcst * self.topoindex / dt  = V \n",
        "def get_config(length = 3000, dz = 4, tcst = 0.035, subdt = 3):\n",
        "  config = {\"length\" : length, \"dz\" : dz, \"tcst\" : tcst, \"subdt\" : subdt}\n",
        "  return config\n",
        "\n",
        "def make_experiment(config, Lnhtus):\n",
        "  Lout = []\n",
        "  for nhtus in Lnhtus:\n",
        "      topoindex = length/nhtus/np.sqrt((dz/length))\n",
        "      # Qinit = V*1/(self.tcst * self.topoindex)*dt\n",
        "      Qinit = 3000 \n",
        "      V0 =  Qinit * tcst * topoindex * subdt \n",
        "      exp0 = experiment(get_param(subdt = subdt,  topoindex = topoindex, tcst = tcst, nhtus = nhtus, niter = 4000), [V0]*nhtus)\n",
        "      Lout.append(exp0.launch()); Lname.append(\"nhtus = {0}, subdt = {1}\".format(nhtus, subdt))\n",
        "  return Lout\n",
        "\n",
        "D1 = {}\n",
        "D2 = {}\n",
        "# Here we limit to 9000\n",
        "Lnhtus = np.arange(1000,9000,1000)\n",
        "Lsubdt = [3,5, 7, 9, 10, 12]\n",
        "print(\"Start running\")\n",
        "for subdt in Lsubdt: \n",
        "  print(\"subdt: {0}\".format(subdt))\n",
        "  config = get_config(subdt = subdt)\n",
        "  Lout = make_experiment(config, Lnhtus)\n",
        "  D1[subdt] = [np.argmin(np.abs(Lout[i][:]-2000)) for i in range(len(Lout))]\n",
        "  D2[subdt] = [np.argmin(np.abs(Lout[i][:]-1000)) for i in range(len(Lout))]\n",
        "  #\n",
        "fig = plt.figure(figsize = (10, 5))\n",
        "#\n",
        "fig.add_subplot(121)\n",
        "for subdt in Lsubdt:\n",
        "  plt.scatter(Lnhtus, D1[subdt], label = \"subdt = {0}\".format(subdt))\n",
        "plt.legend()\n",
        "plt.xlabel(\"nHTUs\")\n",
        "plt.ylabel(\"Time to reach 2/3 of Qin\")\n",
        "plt.title(\"T1\")\n",
        "#\n",
        "fig.add_subplot(122)\n",
        "for subdt in Lsubdt:\n",
        "  plt.scatter(Lnhtus, D2[subdt], label = \"subdt = {0}\".format(subdt))\n",
        "plt.xlabel(\"nHTUs\")\n",
        "plt.ylabel(\"Time to reach 1/3 of Qin\")\n",
        "plt.title(\"T2\")\n",
        "plt.legend()\n",
        "plt.show()"
      ],
      "execution_count": 19,
      "outputs": [
        {
          "output_type": "stream",
          "text": [
            "Start running\n",
            "subdt: 3\n",
            "subdt: 5\n",
            "subdt: 7\n",
            "subdt: 9\n",
            "subdt: 10\n",
            "subdt: 12\n"
          ],
          "name": "stdout"
        },
        {
          "output_type": "display_data",
          "data": {
            "image/png": "[encoded data removed]",
            "text/plain": [
              "<Figure size 720x360 with 2 Axes>"
            ]
          },
          "metadata": {
            "tags": [],
            "needs_background": "light"
          }
        }
      ]
    },
    {
      "cell_type": "markdown",
      "metadata": {
        "id": "OMxGE7NanUNp"
      },
      "source": [
        "<h2> Conclusion </h2>\n",
        "\n",
        "**Impact of nhtus**\n",
        "\n",
        "*   The higher nhtus, the higher T1\n",
        "*   The higher nhtus, the lower T2\n",
        "\n",
        "Lower nhtus \"smooth\" the discharge.\n",
        "\n",
        "**Impact of subdt**\n",
        "\n",
        "*REMINDER : A higher subdt means a shorter timestep.*\n",
        "\n",
        "The différence between the subdt is higher as the subdt raise. \n",
        "The higher subdt (the shorter the timestep), the lower T1 and the higher T2.\n",
        "Raising the time step \"smooth\" the discharge.\n"
      ]
    },
    {
      "cell_type": "markdown",
      "metadata": {
        "id": "qxriGG7Apup2"
      },
      "source": [
        "<h1> Additional </h1>\n",
        "We may consider that in a real system we have many different interactions and variations. Thus the predominent effect in a large basin may be the \"T1\" effect. Thus, high number of HTUs lower the sensibility of the river networks to discharge change. At a certain point it may become critical and then we may have a almost constant discharge.\n",
        "\n",
        "The same may happen with too low subdt.\n",
        "\n",
        "Of course this issue will depend on the choosen time constant and the topography of the catchment (here represented as length and dz). "
      ]
    }
  ]
}