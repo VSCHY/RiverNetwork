{
  "nbformat": 4,
  "nbformat_minor": 0,
  "metadata": {
    "colab": {
      "name": "Toy_Model_Large basin.ipynb",
      "provenance": [],
      "collapsed_sections": [],
      "authorship_tag": "ABX9TyO5l/kduRpm5dgaPad6iRso",
      "include_colab_link": true
    },
    "kernelspec": {
      "name": "python3",
      "display_name": "Python 3"
    }
  },
  "cells": [
    {
      "cell_type": "markdown",
      "metadata": {
        "id": "view-in-github",
        "colab_type": "text"
      },
      "source": [
        "<a href=\"https://colab.research.google.com/github/VSCHY/RiverNetwork/blob/master/Toy_Model_Large_basin.ipynb\" target=\"_parent\"><img src=\"https://colab.research.google.com/assets/colab-badge.svg\" alt=\"Open In Colab\"/></a>"
      ]
    },
    {
      "cell_type": "markdown",
      "metadata": {
        "id": "vgMP4F0oLFbK"
      },
      "source": [
        "<h1> Description of the toy model </h1>\n",
        "<hr>\n",
        "\n",
        "<center>\n",
        "\n",
        "![image](https://drive.google.com/uc?export=view&id=1TAd3t-rDnwhBaIuISNdxclXb4WLElJsz)\n",
        "\n",
        "<em>Figure 1: Description of the HTUs toy model in series </em>\n",
        "</center>\n",
        "\n",
        "River dynamic Parameter : \n",
        "*   tcst : time constant of the reservoir\n",
        "*   topoindex\n",
        "\n",
        "In this model we consider a basic time unit = 1. Then the subdivision of the time unit are defined by subdt. For exemple, subdt = 2 corresponds to two time step inside the basic unit, i.e. a time step of 0.5.\n",
        "\n",
        "Time parameters :\n",
        "*   niter : number of iteration\n",
        "*   subdt : number of subdivision of 1 time unit\n",
        "\n",
        "Formula to define the discharge out of i : \n",
        "\n",
        "Qi = 1/(tcst*topoindex)*Vi * dt\n",
        "\n",
        "The outflow discharge is Qout = Qnhtus"
      ]
    },
    {
      "cell_type": "code",
      "metadata": {
        "id": "yQH2nOs6tWUK"
      },
      "source": [
        "import numpy as np\n",
        "import matplotlib.pyplot as plt\n",
        "\n",
        "class experiment:\n",
        "  def __init__(self, D, V= None, Qin = 0):\n",
        "    \"\"\"\n",
        "    D : Initialization of the parameters values from the dictionnary\n",
        "    V : Array with the initial state of the different reservoir (possible to describe as a list)\n",
        "    Qin : inflow in the first reservoi\n",
        "    \"\"\"\n",
        "    self.tcst = D[\"tcst\"]\n",
        "    self.topoindex = D[\"topoindex\"]\n",
        "    self.nhtus = D[\"nhtus\"]\n",
        "    # \n",
        "    self.subdt =D[\"subdt\"]\n",
        "    # subdt describe the time step, it is the number of division of the basic time step   \n",
        "    self.dt = 1/self.subdt\n",
        "    # \n",
        "    self.niter = D[\"niter\"] \n",
        "    self.f_cst = 1/(self.tcst * self.topoindex)\n",
        "    self.init_var()\n",
        "    if V is not None:\n",
        "        self.V[:] = V\n",
        "    self.Qin = Qin\n",
        "\n",
        "  def init_var(self):\n",
        "    \"\"\"\n",
        "    Initialization of volume and discharge for each reservoir\n",
        "    \"\"\"\n",
        "    self.V = np.zeros((self.nhtus))\n",
        "    self.Q = np.zeros((self.nhtus))  \n",
        "  \n",
        "  def launch(self, volume_hist = False):\n",
        "     \"\"\"\n",
        "     Run the experiment, the output are the mean discharge over each basic unit of time\n",
        "     and for each iteration\n",
        "     \"\"\"\n",
        "     if volume_hist: hist_V = np.zeros((self.nhtus, self.subdt*self.niter))\n",
        "     hist_out = np.zeros(self.subdt*self.niter)\n",
        "     for it in range(self.niter):\n",
        "        for t in range(self.subdt):\n",
        "          if volume_hist: hist_V[:, it * self.subdt + t] = self.V[:]\n",
        "          temp = np.zeros((2,self.V.shape[0]))\n",
        "          temp[0,:] = self.V*self.f_cst*self.dt; temp[1,:] = self.V\n",
        "          self.Q = np.min(temp, axis = 0)\n",
        "\n",
        "          self.V = self.V-self.Q\n",
        "          hist_out[it * self.subdt + t] = self.Q[-1]\n",
        "          self.V[1:] += self.Q[:-1]\n",
        "          self.V[0] += self.Qin\n",
        "\n",
        "     # Mean de subdt sur les subdt\n",
        "     hist_out = np.mean(np.reshape(hist_out, (-1,self.subdt)), axis = 1)\n",
        "     if volume_hist: \n",
        "        hist_V = np.mean(np.reshape(hist_V, (self.nhtus,-1,self.subdt)), axis = 2)\n",
        "        return hist_out, hist_V\n",
        "     else:\n",
        "        return hist_out\n",
        "\n",
        "####\n",
        "\n",
        "def get_param(tcst = 0.0035, topoindex = 300, nhtus = 1, subdt = 1, niter = 1000):\n",
        "    \"\"\"\n",
        "    Function to define the Dictionnary parameters.\n",
        "    This is simplified by using default values.\n",
        "    \"\"\"\n",
        "    D = {\"tcst\": tcst, \"topoindex\":topoindex, \"nhtus\" :nhtus, \"subdt\":subdt,  \"niter\":niter}\n",
        "    return D"
      ],
      "execution_count": 1,
      "outputs": []
    },
    {
      "cell_type": "markdown",
      "metadata": {
        "id": "E3EnZwF9umZX"
      },
      "source": [
        "<h1> Large river example </h1>\n",
        "<hr>\n",
        "Let's consider a large river with a regular decomposition in HTUs :\n",
        "the length of the river is 3000km with a 4 km difference of altitude. \n",
        "The topoindex is adjusted to the number of HTUs considered. \n",
        "\n",
        "In this first example we consider a subdt = 3, tcst = 0.035 and a number of htus between 2000 and 9000."
      ]
    },
    {
      "cell_type": "code",
      "metadata": {
        "id": "rJrSARriW4p6"
      },
      "source": [
        "# Functions for the experiments\n",
        "\n",
        "# Qinit = V*1/(self.tcst * self.topoindex)*dt\n",
        "# 30 000 * self.tcst * self.topoindex / dt  = V \n",
        "def get_config(length = 3000, dz = 4, tcst = 0.035, subdt = 3, niter = 4000):\n",
        "  config = {\"length\" : length, \"dz\" : dz, \"tcst\" : tcst, \"subdt\" : subdt, \"niter\" : niter}\n",
        "  return config\n",
        "\n",
        "def make_experiment(config, Lnhtus):\n",
        "  Lout = []\n",
        "  for nhtus in Lnhtus:\n",
        "      topoindex = config[\"length\"]/nhtus/np.sqrt((config[\"dz\"]/config[\"length\"]))\n",
        "      # Qinit = V0*1/(self.tcst * self.topoindex)*dt\n",
        "      Qinit = 3000 \n",
        "      V0 =  Qinit * config[\"tcst\"] * topoindex * config[\"subdt\"] \n",
        "      exp0 = experiment(get_param(subdt = config[\"subdt\"],  topoindex = topoindex, tcst = config[\"tcst\"], nhtus = nhtus, niter = config[\"niter\"]), [V0]*nhtus)\n",
        "      Lout.append(exp0.launch());\n",
        "  return Lout"
      ],
      "execution_count": 2,
      "outputs": []
    },
    {
      "cell_type": "markdown",
      "metadata": {
        "id": "7UXq6XSgXQ_Q"
      },
      "source": [
        "<h2> First part </h2>\n",
        "We take subdt = 3. The volume are set at equelibrium for a Qin = 1000.\n",
        "At t=0 we set Qin = 0 -> let see how the htus will empty"
      ]
    },
    {
      "cell_type": "code",
      "metadata": {
        "id": "UbRSP_EfuVT7",
        "outputId": "567d4397-6917-4171-8733-d9c17e9c1ecb",
        "colab": {
          "base_uri": "https://localhost:8080/",
          "height": 279
        }
      },
      "source": [
        "# With the default setup\n",
        "Lnhtus = np.arange(2000,10000,1000)\n",
        "\n",
        "config = get_config()\n",
        "Lout = make_experiment(config, Lnhtus)\n",
        "\n",
        "for i in range(len(Lout)):\n",
        "    plt.plot(Lout[i][2500:3500], label = \"subdt = 3; nhtus = {0}\".format(Lnhtus[i]))\n",
        "plt.ylabel(\"Qout\")\n",
        "plt.xlabel(\"basic time unit\")\n",
        "plt.legend()\n",
        "plt.show()\n"
      ],
      "execution_count": 3,
      "outputs": [
        {
          "output_type": "display_data",
          "data": {
            "image/png": "[encoded data removed]",
            "text/plain": [
              "<Figure size 432x288 with 1 Axes>"
            ]
          },
          "metadata": {
            "tags": [],
            "needs_background": "light"
          }
        }
      ]
    },
    {
      "cell_type": "markdown",
      "metadata": {
        "id": "I6s_rjqqfHSZ"
      },
      "source": [
        "<h4> Conclusion </h4>\n",
        "\n",
        "The simulations have a different behaviour, the higher the number of HTUs the later the reaction to Qin = 0 at t = 0.\n",
        "\n",
        "At some point the evolution of Qout is unstable, such as with nhtus = 9000."
      ]
    },
    {
      "cell_type": "markdown",
      "metadata": {
        "id": "esmGav8lg7cu"
      },
      "source": [
        "<h2> Second part </h2>\n",
        "\n",
        "We consider :\n",
        "\n",
        "*   the time T1 required to reach Qout = 2500 $m^3/s$\n",
        "*   the time T2 required to reach Qout = 500 $m^3/s$\n",
        "\n",
        "We then observe the relaxation time $\\Delta T = T2-T1$\n",
        "\n"
      ]
    },
    {
      "cell_type": "code",
      "metadata": {
        "id": "QI2V66h8aPLf"
      },
      "source": [
        "# Preparation \n",
        "\n",
        "def get_deltaT(subdt, Lnhtus, **kwargs):\n",
        "  config = get_config(subdt = subdt, **kwargs)\n",
        "  Lout = make_experiment(config, Lnhtus)\n",
        "  d1 = np.array([np.argmin(np.abs(Lout[i][:]-2500)) for i in range(len(Lout))])\n",
        "  d2 = np.array([np.argmin(np.abs(Lout[i][:]-500)) for i in range(len(Lout))])\n",
        "  out = [d2[i]-d1[i] for i in range(len(Lout))]\n",
        "  return out"
      ],
      "execution_count": 4,
      "outputs": []
    },
    {
      "cell_type": "code",
      "metadata": {
        "id": "ILJZCfppfL_f",
        "outputId": "3d43aa16-3b9d-47d4-9a78-8961a3222cb8",
        "colab": {
          "base_uri": "https://localhost:8080/",
          "height": 316
        }
      },
      "source": [
        "# First try\n",
        "\n",
        "DeltaT = {}\n",
        "Lnhtus = np.arange(1000,10000,1000)\n",
        "print(\"Start running\")\n",
        "for subdt in [3,5]: \n",
        "  print(\"subdt: {0}\".format(subdt))\n",
        "  DeltaT[subdt] = get_deltaT(subdt = subdt, Lnhtus = Lnhtus)\n",
        "\n",
        "for subdt in [3, 5]:\n",
        "  plt.scatter(Lnhtus, DeltaT[subdt], label = \"subdt = {0}\".format(subdt))\n",
        "plt.legend()\n",
        "plt.show()"
      ],
      "execution_count": 5,
      "outputs": [
        {
          "output_type": "stream",
          "text": [
            "Start running\n",
            "subdt: 3\n",
            "subdt: 5\n"
          ],
          "name": "stdout"
        },
        {
          "output_type": "display_data",
          "data": {
            "image/png": "[encoded data removed]",
            "text/plain": [
              "<Figure size 432x288 with 1 Axes>"
            ]
          },
          "metadata": {
            "tags": [],
            "needs_background": "light"
          }
        }
      ]
    },
    {
      "cell_type": "markdown",
      "metadata": {
        "id": "3-RaY0jwlxyx"
      },
      "source": [
        "Both simulations are really close one to another except for subdt = 3 and nhtus = 9000. This example is unstable, it has an abrubt change and thus a $\\Delta t = 0 $. This unstability is resolved at a lower timestep, at subdt = 5. \n",
        "\n",
        "For the following experiences we may limit nhtus to 8000, to avoid this issue."
      ]
    },
    {
      "cell_type": "code",
      "metadata": {
        "id": "ANPB_zMvmLWg",
        "outputId": "18a05846-681a-4288-da25-57a7821bdcf8",
        "colab": {
          "base_uri": "https://localhost:8080/",
          "height": 542
        }
      },
      "source": [
        "import tqdm\n",
        "\n",
        "DeltaT = {}\n",
        "Lnhtus = np.arange(1000,9000,1000)\n",
        "Lsubdt = [3,5, 7, 9, 10, 12]\n",
        "\n",
        "print(\"Start running\")\n",
        "for subdt in tqdm.tqdm(Lsubdt): \n",
        "  print(\"subdt: {0}\".format(subdt))\n",
        "  DeltaT[subdt] = get_deltaT(subdt = subdt, Lnhtus = Lnhtus)\n",
        "\n",
        "##############################\n",
        "\n",
        "fig = plt.figure(figsize = (10, 6))\n",
        "#\n",
        "for subdt in Lsubdt:\n",
        "  plt.scatter(Lnhtus, DeltaT[subdt], label = \"subdt = {0}\".format(subdt))\n",
        "plt.legend()\n",
        "plt.xlabel(\"nHTUs\")\n",
        "plt.ylabel(\"$\\Delta T$\")\n",
        "plt.title(\"$\\Delta T$ in function of subdt / nhtus\")\n",
        "plt.show()"
      ],
      "execution_count": 6,
      "outputs": [
        {
          "output_type": "stream",
          "text": [
            "\r  0%|          | 0/6 [00:00<?, ?it/s]"
          ],
          "name": "stderr"
        },
        {
          "output_type": "stream",
          "text": [
            "Start running\n",
            "subdt: 3\n"
          ],
          "name": "stdout"
        },
        {
          "output_type": "stream",
          "text": [
            "\r 17%|█▋        | 1/6 [00:05<00:29,  5.89s/it]"
          ],
          "name": "stderr"
        },
        {
          "output_type": "stream",
          "text": [
            "subdt: 5\n"
          ],
          "name": "stdout"
        },
        {
          "output_type": "stream",
          "text": [
            "\r 33%|███▎      | 2/6 [00:23<00:37,  9.27s/it]"
          ],
          "name": "stderr"
        },
        {
          "output_type": "stream",
          "text": [
            "subdt: 7\n"
          ],
          "name": "stdout"
        },
        {
          "output_type": "stream",
          "text": [
            "\r 50%|█████     | 3/6 [00:51<00:45, 15.04s/it]"
          ],
          "name": "stderr"
        },
        {
          "output_type": "stream",
          "text": [
            "subdt: 9\n"
          ],
          "name": "stdout"
        },
        {
          "output_type": "stream",
          "text": [
            "\r 67%|██████▋   | 4/6 [01:27<00:42, 21.32s/it]"
          ],
          "name": "stderr"
        },
        {
          "output_type": "stream",
          "text": [
            "subdt: 10\n"
          ],
          "name": "stdout"
        },
        {
          "output_type": "stream",
          "text": [
            "\r 83%|████████▎ | 5/6 [02:06<00:26, 26.76s/it]"
          ],
          "name": "stderr"
        },
        {
          "output_type": "stream",
          "text": [
            "subdt: 12\n"
          ],
          "name": "stdout"
        },
        {
          "output_type": "stream",
          "text": [
            "100%|██████████| 6/6 [02:53<00:00, 29.00s/it]\n"
          ],
          "name": "stderr"
        },
        {
          "output_type": "display_data",
          "data": {
            "image/png": "[encoded data removed]",
            "text/plain": [
              "<Figure size 720x432 with 1 Axes>"
            ]
          },
          "metadata": {
            "tags": [],
            "needs_background": "light"
          }
        }
      ]
    },
    {
      "cell_type": "markdown",
      "metadata": {
        "id": "OMxGE7NanUNp"
      },
      "source": [
        "<h4> Conclusion </h4>\n",
        "\n",
        "**Impact of nhtus**\n",
        "\n",
        "*   The higher the number of htus, the higher $\\Delta t$, thus, the more diffusive is the river system.\n",
        "\n",
        "**Impact of subdt**\n",
        "\n",
        "*   An higher subdt means that the main time unit is more divided and thus we have a smaller time step. The smaller the time step, the higher $\\Delta t$, thus, the more diffusive the river system.\n",
        "\n",
        "**In a real river system**\n",
        "\n",
        "We may consider that in a real system we have many different variations interactig with the river dynamic. Although they react more slowly, the more diffusive configurations reacts first. ($\\Delta t$ is larger but the variation starts earlier). Thus, high number of HTUs lower the sensibility of the river networks to discharge change. At a certain point, the river network will be too slow to react and then we may have a almost constant discharge.\n",
        "\n",
        "The same thing may happen with a too low subdt.\n",
        "\n",
        "Of course this issue will depend on the chosen time constant and the topography of the catchment (here represented as length and dz).\n"
      ]
    },
    {
      "cell_type": "markdown",
      "metadata": {
        "id": "qxriGG7Apup2"
      },
      "source": [
        "<h2> Third part </h2>\n",
        "Sensibility to the slope."
      ]
    },
    {
      "cell_type": "code",
      "metadata": {
        "id": "SLyE3HIKh1oo",
        "outputId": "7c7e92b0-69d7-4f1f-eae9-e7c98816ad3b",
        "colab": {
          "base_uri": "https://localhost:8080/",
          "height": 313
        }
      },
      "source": [
        "# First try: time serie\n",
        "\n",
        "TS = {}\n",
        "Lnhtus = [3000]\n",
        "subdt = 5\n",
        "Ldz = np.arange(1,7)\n",
        "\n",
        "print(\"Start running\")\n",
        "for dz in tqdm.tqdm(Ldz): \n",
        "  config = get_config(subdt = subdt, dz = dz, niter = 6000)\n",
        "  TS[dz] = make_experiment(config, Lnhtus)\n",
        "  TS[dz] = np.round(np.array(TS[dz][0]),2)\n",
        "\n",
        "for dz in Ldz:\n",
        "  plt.plot(TS[dz][:], label = \"dz = {0} km\".format(dz))\n",
        "plt.xlabel(\"time steps\")\n",
        "plt.ylabel(\"$Q_{out}$\")\n",
        "plt.legend()\n",
        "plt.show()"
      ],
      "execution_count": 7,
      "outputs": [
        {
          "output_type": "stream",
          "text": [
            "\r  0%|          | 0/6 [00:00<?, ?it/s]"
          ],
          "name": "stderr"
        },
        {
          "output_type": "stream",
          "text": [
            "Start running\n"
          ],
          "name": "stdout"
        },
        {
          "output_type": "stream",
          "text": [
            "100%|██████████| 6/6 [00:17<00:00,  2.91s/it]\n"
          ],
          "name": "stderr"
        },
        {
          "output_type": "display_data",
          "data": {
            "image/png": "[encoded data removed]",
            "text/plain": [
              "<Figure size 432x288 with 1 Axes>"
            ]
          },
          "metadata": {
            "tags": [],
            "needs_background": "light"
          }
        }
      ]
    },
    {
      "cell_type": "markdown",
      "metadata": {
        "id": "kc6GZkx5vwRw"
      },
      "source": [
        "As expected, the higher $dz$, the higher is the reaction time."
      ]
    },
    {
      "cell_type": "code",
      "metadata": {
        "id": "i8xSYGxBfr_A",
        "outputId": "9c8fec43-718d-4063-a368-95de83f4ecd0",
        "colab": {
          "base_uri": "https://localhost:8080/",
          "height": 542
        }
      },
      "source": [
        "DeltaT = {}\n",
        "Lnhtus = np.arange(1000,9000,1000)\n",
        "# Lsubdt = [3,5, 7, 9, 10, 12]\n",
        "subdt = 5\n",
        "Ldz = np.arange(1,7)\n",
        "print(\"Start running\")\n",
        "for dz in tqdm.tqdm(Ldz): \n",
        "  print(\"subdt: {0}\".format(subdt))\n",
        "  DeltaT[dz] = get_deltaT(subdt = subdt, Lnhtus = Lnhtus, dz = dz, niter = 10000)\n",
        "\n",
        "##############################\n",
        "\n",
        "fig = plt.figure(figsize = (10, 6))\n",
        "#\n",
        "for dz in Ldz:\n",
        "  plt.scatter(Lnhtus, DeltaT[dz], label = \"dz = {0}\".format(dz))\n",
        "plt.legend()\n",
        "plt.xlabel(\"nHTUs\")\n",
        "plt.ylabel(\"$\\Delta T$\")\n",
        "plt.title(\"$\\Delta T$ in function of dz / nhtus\")\n",
        "plt.show()"
      ],
      "execution_count": 10,
      "outputs": [
        {
          "output_type": "stream",
          "text": [
            "\r  0%|          | 0/6 [00:00<?, ?it/s]"
          ],
          "name": "stderr"
        },
        {
          "output_type": "stream",
          "text": [
            "Start running\n",
            "subdt: 5\n"
          ],
          "name": "stdout"
        },
        {
          "output_type": "stream",
          "text": [
            "\r 17%|█▋        | 1/6 [01:00<05:04, 60.83s/it]"
          ],
          "name": "stderr"
        },
        {
          "output_type": "stream",
          "text": [
            "subdt: 5\n"
          ],
          "name": "stdout"
        },
        {
          "output_type": "stream",
          "text": [
            "\r 33%|███▎      | 2/6 [02:16<04:21, 65.37s/it]"
          ],
          "name": "stderr"
        },
        {
          "output_type": "stream",
          "text": [
            "subdt: 5\n"
          ],
          "name": "stdout"
        },
        {
          "output_type": "stream",
          "text": [
            "\r 50%|█████     | 3/6 [03:39<03:31, 70.64s/it]"
          ],
          "name": "stderr"
        },
        {
          "output_type": "stream",
          "text": [
            "subdt: 5\n"
          ],
          "name": "stdout"
        },
        {
          "output_type": "stream",
          "text": [
            "\r 67%|██████▋   | 4/6 [04:49<02:20, 70.50s/it]"
          ],
          "name": "stderr"
        },
        {
          "output_type": "stream",
          "text": [
            "subdt: 5\n"
          ],
          "name": "stdout"
        },
        {
          "output_type": "stream",
          "text": [
            "\r 83%|████████▎ | 5/6 [05:47<01:06, 66.63s/it]"
          ],
          "name": "stderr"
        },
        {
          "output_type": "stream",
          "text": [
            "subdt: 5\n"
          ],
          "name": "stdout"
        },
        {
          "output_type": "stream",
          "text": [
            "100%|██████████| 6/6 [06:33<00:00, 65.64s/it]\n"
          ],
          "name": "stderr"
        },
        {
          "output_type": "display_data",
          "data": {
            "image/png": "[encoded data removed]",
            "text/plain": [
              "<Figure size 720x432 with 1 Axes>"
            ]
          },
          "metadata": {
            "tags": [],
            "needs_background": "light"
          }
        }
      ]
    },
    {
      "cell_type": "markdown",
      "metadata": {
        "id": "pOHDldu_wGIa"
      },
      "source": [
        "For each $dz$, we find the same relationship of $\\Delta t$ decreasing as nHTUs raise.\n",
        "\n",
        "These differences of $\\Delta t$ are exacerbated as the value $dz$ decrease:\n",
        "\n",
        "\n",
        "*   $dz$ = 1 :$\\Delta t$ = 350 for nHTUs = 1000 / $\\Delta t$ = 150 for nHTUs = 8000\n",
        "*   $dz$ = 6 :$\\Delta t$ = 150 for nHTUs = 1000 / $\\Delta t$ = 50 for nHTUs = 8000\n",
        "\n",
        "\n",
        "This is why we may conclude that these issues are more important in flatter basins. "
      ]
    }
  ]
}