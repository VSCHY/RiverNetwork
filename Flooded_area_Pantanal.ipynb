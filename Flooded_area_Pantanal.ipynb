{
  "nbformat": 4,
  "nbformat_minor": 0,
  "metadata": {
    "colab": {
      "name": "Flooded_area_Pantanal.ipynb",
      "provenance": [],
      "collapsed_sections": [],
      "authorship_tag": "ABX9TyMxuuCZ4T9kwz/Ct/1mg6F1",
      "include_colab_link": true
    },
    "kernelspec": {
      "name": "python3",
      "display_name": "Python 3"
    }
  },
  "cells": [
    {
      "cell_type": "markdown",
      "metadata": {
        "id": "view-in-github",
        "colab_type": "text"
      },
      "source": [
        "<a href=\"https://colab.research.google.com/github/VSCHY/RiverNetwork/blob/master/Flooded_area_Pantanal.ipynb\" target=\"_parent\"><img src=\"https://colab.research.google.com/assets/colab-badge.svg\" alt=\"Open In Colab\"/></a>"
      ]
    },
    {
      "cell_type": "markdown",
      "metadata": {
        "id": "YZFkyKYNoXn9"
      },
      "source": [
        "<h1>Flooded area over Pantanal</h1>\n",
        "<h2>Installation</h2>\n"
      ]
    },
    {
      "cell_type": "code",
      "metadata": {
        "id": "lCZ-bpqVoQUe",
        "outputId": "6828ed8d-e647-4767-fbae-14073b9897cd",
        "colab": {
          "base_uri": "https://localhost:8080/",
          "height": 84
        }
      },
      "source": [
        "!pip install -U -q earthengine-api\n",
        "!pip install -U -q folium"
      ],
      "execution_count": 1,
      "outputs": [
        {
          "output_type": "stream",
          "text": [
            "\u001b[?25l\r\u001b[K     |██                              | 10kB 22.8MB/s eta 0:00:01\r\u001b[K     |████▏                           | 20kB 1.8MB/s eta 0:00:01\r\u001b[K     |██████▎                         | 30kB 2.2MB/s eta 0:00:01\r\u001b[K     |████████▎                       | 40kB 2.5MB/s eta 0:00:01\r\u001b[K     |██████████▍                     | 51kB 2.0MB/s eta 0:00:01\r\u001b[K     |████████████▌                   | 61kB 2.3MB/s eta 0:00:01\r\u001b[K     |██████████████▋                 | 71kB 2.5MB/s eta 0:00:01\r\u001b[K     |████████████████▋               | 81kB 2.8MB/s eta 0:00:01\r\u001b[K     |██████████████████▊             | 92kB 2.9MB/s eta 0:00:01\r\u001b[K     |████████████████████▉           | 102kB 2.9MB/s eta 0:00:01\r\u001b[K     |███████████████████████         | 112kB 2.9MB/s eta 0:00:01\r\u001b[K     |█████████████████████████       | 122kB 2.9MB/s eta 0:00:01\r\u001b[K     |███████████████████████████     | 133kB 2.9MB/s eta 0:00:01\r\u001b[K     |█████████████████████████████▏  | 143kB 2.9MB/s eta 0:00:01\r\u001b[K     |███████████████████████████████▎| 153kB 2.9MB/s eta 0:00:01\r\u001b[K     |████████████████████████████████| 163kB 2.9MB/s \n",
            "\u001b[?25h  Building wheel for earthengine-api (setup.py) ... \u001b[?25l\u001b[?25hdone\n",
            "\u001b[K     |████████████████████████████████| 102kB 2.3MB/s \n",
            "\u001b[31mERROR: datascience 0.10.6 has requirement folium==0.2.1, but you'll have folium 0.11.0 which is incompatible.\u001b[0m\n",
            "\u001b[?25h"
          ],
          "name": "stdout"
        }
      ]
    },
    {
      "cell_type": "code",
      "metadata": {
        "id": "4rGRRgqkBFXu",
        "outputId": "26eb7838-d779-498b-d6a8-bac069e1b8f0",
        "colab": {
          "base_uri": "https://localhost:8080/",
          "height": 34
        }
      },
      "source": [
        "!pip install -U -q geehydro"
      ],
      "execution_count": 2,
      "outputs": [
        {
          "output_type": "stream",
          "text": [
            "  Building wheel for geehydro (setup.py) ... \u001b[?25l\u001b[?25hdone\n"
          ],
          "name": "stdout"
        }
      ]
    },
    {
      "cell_type": "code",
      "metadata": {
        "id": "k0byl24_oHLN",
        "outputId": "01e20eec-55b8-4ac3-95cf-dc22160e6b4b",
        "colab": {
          "base_uri": "https://localhost:8080/",
          "height": 255
        }
      },
      "source": [
        "!earthengine authenticate"
      ],
      "execution_count": 3,
      "outputs": [
        {
          "output_type": "stream",
          "text": [
            "WARNING:tensorflow:From /usr/local/lib/python3.6/dist-packages/tensorflow/python/compat/v2_compat.py:96: disable_resource_variables (from tensorflow.python.ops.variable_scope) is deprecated and will be removed in a future version.\n",
            "Instructions for updating:\n",
            "non-resource variables are not supported in the long term\n",
            "Running command using Cloud API.  Set --no-use_cloud_api to go back to using the API\n",
            "\n",
            "To authorize access needed by Earth Engine, open the following URL in a web browser and follow the instructions. If the web browser does not start automatically, please manually browse the URL below.\n",
            "\n",
            "    https://accounts.google.com/o/oauth2/auth?client_id=517222506229-vsmmajv00ul0bs7p89v5m89qs8eb9359.apps.googleusercontent.com&scope=https%3A%2F%2Fwww.googleapis.com%2Fauth%2Fearthengine+https%3A%2F%2Fwww.googleapis.com%2Fauth%2Fdevstorage.full_control&redirect_uri=urn%3Aietf%3Awg%3Aoauth%3A2.0%3Aoob&response_type=code&code_challenge=xfCJPrbQpjXCxcZioq1hbQSR61IWvIZtPZQcNCyWqHE&code_challenge_method=S256\n",
            "\n",
            "The authorization workflow will generate a code, which you should paste in the box below. \n",
            "Enter verification code: 4/4wG_UMd3JItkK3tfi5zcLNnbr9hVE9Q0bf7KJqvk8f1E_pnvwCjf9XY\n",
            "\n",
            "Successfully saved authorization token.\n"
          ],
          "name": "stdout"
        }
      ]
    },
    {
      "cell_type": "markdown",
      "metadata": {
        "id": "nxCQ_Xa-orVw"
      },
      "source": [
        "<h2>Initialization</h2>"
      ]
    },
    {
      "cell_type": "code",
      "metadata": {
        "id": "lQkKFqOOoNkZ",
        "outputId": "0f5294d3-1f78-43c8-8f47-4ac7ab1769bf",
        "colab": {
          "base_uri": "https://localhost:8080/",
          "height": 34
        }
      },
      "source": [
        "import ee\n",
        "import folium\n",
        "import geehydro\n",
        "\n",
        "try:\n",
        "  ee.Initialize()\n",
        "  print('Google Earth Engine has initialized successfully!')\n",
        "except ee.EEException as e:\n",
        "  print('Google Earth Engine has failed to initialize!')\n",
        "except:\n",
        "    print(\"Unexpected error:\", sys.exc_info()[0])\n",
        "    raise"
      ],
      "execution_count": 4,
      "outputs": [
        {
          "output_type": "stream",
          "text": [
            "Google Earth Engine has initialized successfully!\n"
          ],
          "name": "stdout"
        }
      ]
    },
    {
      "cell_type": "markdown",
      "metadata": {
        "id": "1be3wi0iqK4K"
      },
      "source": [
        "<h2> First approach : explore MODIS DATA </h2>\n",
        "From MODIS dataset 2 products are commonly used for flood detection : MOD09A1/A4 and MOD43A4.\n",
        "\n",
        "*  MOD09A1.006 Terra Surface Reflectance 8-Day Global 500m\n",
        "*  MCD43A4.006 MODIS Nadir BRDF-Adjusted Reflectance Daily 500m\n",
        "\n",
        "In this case I explore MCD43A4. I compare a \"wet period\" (April 2019) to a \"dry period\" (August 2019) for the Natural Visible colors and for the short wave infrared colors."
      ]
    },
    {
      "cell_type": "code",
      "metadata": {
        "id": "xEkJ9vK2qdlR",
        "outputId": "55583786-140c-4c81-acc6-a9261d8bcfce",
        "colab": {
          "base_uri": "https://localhost:8080/",
          "height": 826
        }
      },
      "source": [
        "poi = ee.Geometry.Point([-57, -18.8])\n",
        "MOD = ee.ImageCollection(\"MODIS/006/MCD43A4\").filterBounds(poi)\n",
        "\n",
        "MOD_dry = MOD.filterDate('2019-08-01', '2019-08-30').min()\n",
        "MOD_dry_rgb = ee.Image(MOD_dry).visualize(min=0, max=2000, bands=['Nadir_Reflectance_Band1', 'Nadir_Reflectance_Band4', 'Nadir_Reflectance_Band3'])\n",
        "MOD_dry_swir = ee.Image(MOD_dry).visualize(min=50, max=3300, bands=['Nadir_Reflectance_Band2', 'Nadir_Reflectance_Band5', 'Nadir_Reflectance_Band6'])\n",
        "\n",
        "MOD_wet = MOD.filterDate('2019-04-01', '2020-04-30').min()\n",
        "MOD_wet_rgb = ee.Image(MOD_wet).visualize(min=0, max=2000, bands=['Nadir_Reflectance_Band1', 'Nadir_Reflectance_Band4', 'Nadir_Reflectance_Band3'])\n",
        "MOD_wet_swir = ee.Image(MOD_wet).visualize(min=50, max=3300, bands=['Nadir_Reflectance_Band2', 'Nadir_Reflectance_Band5', 'Nadir_Reflectance_Band6'])\n",
        "\n",
        "\n",
        "myMap = folium.Map(location=[-18.8, -57], zoom_start=8, tiles='Stamen Terrain', control_scale=False, detect_retina=True,width=600, height=600)\n",
        "myMap.setOptions('HYBRID')\n",
        "\n",
        "myMap.addLayer(MOD_dry_rgb, {'overlay':True}, 'Natural Colour DRY')\n",
        "myMap.addLayer(MOD_dry_swir, {'overlay':True}, 'Short-wave Infrared DRY')\n",
        "myMap.addLayer(MOD_wet_rgb, {'overlay':True}, 'Natural Colour WET')\n",
        "myMap.addLayer(MOD_wet_swir, {'overlay':True}, 'Short-wave Infrared WET')\n",
        "\n",
        "# Add a layer control widget to the map\n",
        "folium.LayerControl().add_to(myMap)\n",
        "\n",
        "# Show the map!\n",
        "display(myMap)\n"
      ],
      "execution_count": 5,
      "outputs": [
        {
          "output_type": "display_data",
          "data": {
            "text/html": [
              "<div style=\"width:100%;\"><div style=\"position:relative;width:100%;height:0;padding-bottom:60%;\"><span style=\"color:#565656\">Make this Notebook Trusted to load map: File -> Trust Notebook</span><iframe src=\"about:blank\" style=\"position:absolute;width:100%;height:100%;left:0;top:0;border:none !important;\" data-html=PCFET0NUWVBFIGh0bWw+CjxoZWFkPiAgICAKICAgIDxtZXRhIGh0dHAtZXF1aXY9ImNvbnRlbnQtdHlwZSIgY29udGVudD0idGV4dC9odG1sOyBjaGFyc2V0PVVURi04IiAvPgogICAgCiAgICAgICAgPHNjcmlwdD4KICAgICAgICAgICAgTF9OT19UT1VDSCA9IGZhbHNlOwogICAgICAgICAgICBMX0RJU0FCTEVfM0QgPSBmYWxzZTsKICAgICAgICA8L3NjcmlwdD4KICAgIAogICAgPHNjcmlwdCBzcmM9Imh0dHBzOi8vY2RuLmpzZGVsaXZyLm5ldC9ucG0vbGVhZmxldEAxLjYuMC9kaXN0L2xlYWZsZXQuanMiPjwvc2NyaXB0PgogICAgPHNjcmlwdCBzcmM9Imh0dHBzOi8vY29kZS5qcXVlcnkuY29tL2pxdWVyeS0xLjEyLjQubWluLmpzIj48L3NjcmlwdD4KICAgIDxzY3JpcHQgc3JjPSJodHRwczovL21heGNkbi5ib290c3RyYXBjZG4uY29tL2Jvb3RzdHJhcC8zLjIuMC9qcy9ib290c3RyYXAubWluLmpzIj48L3NjcmlwdD4KICAgIDxzY3JpcHQgc3JjPSJodHRwczovL2NkbmpzLmNsb3VkZmxhcmUuY29tL2FqYXgvbGlicy9MZWFmbGV0LmF3ZXNvbWUtbWFya2Vycy8yLjAuMi9sZWFmbGV0LmF3ZXNvbWUtbWFya2Vycy5qcyI+PC9zY3JpcHQ+CiAgICA8bGluayByZWw9InN0eWxlc2hlZXQiIGhyZWY9Imh0dHBzOi8vY2RuLmpzZGVsaXZyLm5ldC9ucG0vbGVhZmxldEAxLjYuMC9kaXN0L2xlYWZsZXQuY3NzIi8+CiAgICA8bGluayByZWw9InN0eWxlc2hlZXQiIGhyZWY9Imh0dHBzOi8vbWF4Y2RuLmJvb3RzdHJhcGNkbi5jb20vYm9vdHN0cmFwLzMuMi4wL2Nzcy9ib290c3RyYXAubWluLmNzcyIvPgogICAgPGxpbmsgcmVsPSJzdHlsZXNoZWV0IiBocmVmPSJodHRwczovL21heGNkbi5ib290c3RyYXBjZG4uY29tL2Jvb3RzdHJhcC8zLjIuMC9jc3MvYm9vdHN0cmFwLXRoZW1lLm1pbi5jc3MiLz4KICAgIDxsaW5rIHJlbD0ic3R5bGVzaGVldCIgaHJlZj0iaHR0cHM6Ly9tYXhjZG4uYm9vdHN0cmFwY2RuLmNvbS9mb250LWF3ZXNvbWUvNC42LjMvY3NzL2ZvbnQtYXdlc29tZS5taW4uY3NzIi8+CiAgICA8bGluayByZWw9InN0eWxlc2hlZXQiIGhyZWY9Imh0dHBzOi8vY2RuanMuY2xvdWRmbGFyZS5jb20vYWpheC9saWJzL0xlYWZsZXQuYXdlc29tZS1tYXJrZXJzLzIuMC4yL2xlYWZsZXQuYXdlc29tZS1tYXJrZXJzLmNzcyIvPgogICAgPGxpbmsgcmVsPSJzdHlsZXNoZWV0IiBocmVmPSJodHRwczovL3Jhd2Nkbi5naXRoYWNrLmNvbS9weXRob24tdmlzdWFsaXphdGlvbi9mb2xpdW0vbWFzdGVyL2ZvbGl1bS90ZW1wbGF0ZXMvbGVhZmxldC5hd2Vzb21lLnJvdGF0ZS5jc3MiLz4KICAgIDxzdHlsZT5odG1sLCBib2R5IHt3aWR0aDogMTAwJTtoZWlnaHQ6IDEwMCU7bWFyZ2luOiAwO3BhZGRpbmc6IDA7fTwvc3R5bGU+CiAgICA8c3R5bGU+I21hcCB7cG9zaXRpb246YWJzb2x1dGU7dG9wOjA7Ym90dG9tOjA7cmlnaHQ6MDtsZWZ0OjA7fTwvc3R5bGU+CiAgICAKICAgICAgICAgICAgPG1ldGEgbmFtZT0idmlld3BvcnQiIGNvbnRlbnQ9IndpZHRoPWRldmljZS13aWR0aCwKICAgICAgICAgICAgICAgIGluaXRpYWwtc2NhbGU9MS4wLCBtYXhpbXVtLXNjYWxlPTEuMCwgdXNlci1zY2FsYWJsZT1ubyIgLz4KICAgICAgICAgICAgPHN0eWxlPgogICAgICAgICAgICAgICAgI21hcF85MGU0ZmExOWJmNmQ0NTQ3ODM5MjgzOGIyOTZjZDQ3OCB7CiAgICAgICAgICAgICAgICAgICAgcG9zaXRpb246IHJlbGF0aXZlOwogICAgICAgICAgICAgICAgICAgIHdpZHRoOiA2MDAuMHB4OwogICAgICAgICAgICAgICAgICAgIGhlaWdodDogNjAwLjBweDsKICAgICAgICAgICAgICAgICAgICBsZWZ0OiAwLjAlOwogICAgICAgICAgICAgICAgICAgIHRvcDogMC4wJTsKICAgICAgICAgICAgICAgIH0KICAgICAgICAgICAgPC9zdHlsZT4KICAgICAgICAKPC9oZWFkPgo8Ym9keT4gICAgCiAgICAKICAgICAgICAgICAgPGRpdiBjbGFzcz0iZm9saXVtLW1hcCIgaWQ9Im1hcF85MGU0ZmExOWJmNmQ0NTQ3ODM5MjgzOGIyOTZjZDQ3OCIgPjwvZGl2PgogICAgICAgIAo8L2JvZHk+CjxzY3JpcHQ+ICAgIAogICAgCiAgICAgICAgICAgIHZhciBtYXBfOTBlNGZhMTliZjZkNDU0NzgzOTI4MzhiMjk2Y2Q0NzggPSBMLm1hcCgKICAgICAgICAgICAgICAgICJtYXBfOTBlNGZhMTliZjZkNDU0NzgzOTI4MzhiMjk2Y2Q0NzgiLAogICAgICAgICAgICAgICAgewogICAgICAgICAgICAgICAgICAgIGNlbnRlcjogWy0xOC44LCAtNTcuMF0sCiAgICAgICAgICAgICAgICAgICAgY3JzOiBMLkNSUy5FUFNHMzg1NywKICAgICAgICAgICAgICAgICAgICB6b29tOiA4LAogICAgICAgICAgICAgICAgICAgIHpvb21Db250cm9sOiB0cnVlLAogICAgICAgICAgICAgICAgICAgIHByZWZlckNhbnZhczogZmFsc2UsCiAgICAgICAgICAgICAgICAgICAgZGV0ZWN0UmV0aW5hOiB0cnVlLAogICAgICAgICAgICAgICAgfQogICAgICAgICAgICApOwoKICAgICAgICAgICAgCgogICAgICAgIAogICAgCiAgICAgICAgICAgIHZhciB0aWxlX2xheWVyX2MxMjBkOGJmMzZiNTRkMDg4NjVhMWMyYjZmZmM0MmQ1ID0gTC50aWxlTGF5ZXIoCiAgICAgICAgICAgICAgICAiaHR0cHM6Ly9zdGFtZW4tdGlsZXMte3N9LmEuc3NsLmZhc3RseS5uZXQvdGVycmFpbi97en0ve3h9L3t5fS5qcGciLAogICAgICAgICAgICAgICAgeyJhdHRyaWJ1dGlvbiI6ICJNYXAgdGlsZXMgYnkgXHUwMDNjYSBocmVmPVwiaHR0cDovL3N0YW1lbi5jb21cIlx1MDAzZVN0YW1lbiBEZXNpZ25cdTAwM2MvYVx1MDAzZSwgdW5kZXIgXHUwMDNjYSBocmVmPVwiaHR0cDovL2NyZWF0aXZlY29tbW9ucy5vcmcvbGljZW5zZXMvYnkvMy4wXCJcdTAwM2VDQyBCWSAzLjBcdTAwM2MvYVx1MDAzZS4gRGF0YSBieSBcdTAwMjZjb3B5OyBcdTAwM2NhIGhyZWY9XCJodHRwOi8vb3BlbnN0cmVldG1hcC5vcmdcIlx1MDAzZU9wZW5TdHJlZXRNYXBcdTAwM2MvYVx1MDAzZSwgdW5kZXIgXHUwMDNjYSBocmVmPVwiaHR0cDovL2NyZWF0aXZlY29tbW9ucy5vcmcvbGljZW5zZXMvYnktc2EvMy4wXCJcdTAwM2VDQyBCWSBTQVx1MDAzYy9hXHUwMDNlLiIsICJkZXRlY3RSZXRpbmEiOiBmYWxzZSwgIm1heE5hdGl2ZVpvb20iOiAxOCwgIm1heFpvb20iOiAxOCwgIm1pblpvb20iOiAwLCAibm9XcmFwIjogZmFsc2UsICJvcGFjaXR5IjogMSwgInN1YmRvbWFpbnMiOiAiYWJjIiwgInRtcyI6IGZhbHNlfQogICAgICAgICAgICApLmFkZFRvKG1hcF85MGU0ZmExOWJmNmQ0NTQ3ODM5MjgzOGIyOTZjZDQ3OCk7CiAgICAgICAgCiAgICAKICAgICAgICAgICAgdmFyIHRpbGVfbGF5ZXJfZDUwYWY0MjM4ZDhlNGI1Nzg2NmM4NzhjMWZkMGFlNGMgPSBMLnRpbGVMYXllcigKICAgICAgICAgICAgICAgICJodHRwczovL210MS5nb29nbGUuY29tL3Z0L2x5cnM9eVx1MDAyNng9e3h9XHUwMDI2eT17eX1cdTAwMjZ6PXt6fSIsCiAgICAgICAgICAgICAgICB7ImF0dHJpYnV0aW9uIjogIkdvb2dsZSIsICJkZXRlY3RSZXRpbmEiOiBmYWxzZSwgIm1heE5hdGl2ZVpvb20iOiAxOCwgIm1heFpvb20iOiAxOCwgIm1pblpvb20iOiAwLCAibm9XcmFwIjogZmFsc2UsICJvcGFjaXR5IjogMSwgInN1YmRvbWFpbnMiOiAiYWJjIiwgInRtcyI6IGZhbHNlfQogICAgICAgICAgICApLmFkZFRvKG1hcF85MGU0ZmExOWJmNmQ0NTQ3ODM5MjgzOGIyOTZjZDQ3OCk7CiAgICAgICAgCiAgICAKICAgICAgICAgICAgdmFyIHRpbGVfbGF5ZXJfMTU0M2RlYTNjYTMxNDJkMmIwNWFiODk4NTFkY2RiMjMgPSBMLnRpbGVMYXllcigKICAgICAgICAgICAgICAgICJodHRwczovL2VhcnRoZW5naW5lLmdvb2dsZWFwaXMuY29tL3YxYWxwaGEvcHJvamVjdHMvZWFydGhlbmdpbmUtbGVnYWN5L21hcHMvNzk0OGE2OGZhMDQ5MmI0NjhhNWU0Yjc0Y2ZmMjgwNWYtNmJmZjQ1ZGRlNjg5MTcxOWM2N2MxNWJlMTc3ZWZmZGUvdGlsZXMve3p9L3t4fS97eX0iLAogICAgICAgICAgICAgICAgeyJhdHRyaWJ1dGlvbiI6ICJHb29nbGUgRWFydGggRW5naW5lIiwgImRldGVjdFJldGluYSI6IGZhbHNlLCAibWF4TmF0aXZlWm9vbSI6IDE4LCAibWF4Wm9vbSI6IDE4LCAibWluWm9vbSI6IDAsICJub1dyYXAiOiBmYWxzZSwgIm9wYWNpdHkiOiAxLCAic3ViZG9tYWlucyI6ICJhYmMiLCAidG1zIjogZmFsc2V9CiAgICAgICAgICAgICkuYWRkVG8obWFwXzkwZTRmYTE5YmY2ZDQ1NDc4MzkyODM4YjI5NmNkNDc4KTsKICAgICAgICAKICAgIAogICAgICAgICAgICB2YXIgdGlsZV9sYXllcl9hOGJkODc3N2JjZWE0NzM3YTBiMmQ5NzE1MjZlMjE4MiA9IEwudGlsZUxheWVyKAogICAgICAgICAgICAgICAgImh0dHBzOi8vZWFydGhlbmdpbmUuZ29vZ2xlYXBpcy5jb20vdjFhbHBoYS9wcm9qZWN0cy9lYXJ0aGVuZ2luZS1sZWdhY3kvbWFwcy81MmQxMTg4YWJkZGFiNGZhZDk2MGY3NDBlNDRmYTIxMC1kNzU5NWU0MmFkYzVkMTY5YWI0NDkyMjkxYmE5M2VlZS90aWxlcy97en0ve3h9L3t5fSIsCiAgICAgICAgICAgICAgICB7ImF0dHJpYnV0aW9uIjogIkdvb2dsZSBFYXJ0aCBFbmdpbmUiLCAiZGV0ZWN0UmV0aW5hIjogZmFsc2UsICJtYXhOYXRpdmVab29tIjogMTgsICJtYXhab29tIjogMTgsICJtaW5ab29tIjogMCwgIm5vV3JhcCI6IGZhbHNlLCAib3BhY2l0eSI6IDEsICJzdWJkb21haW5zIjogImFiYyIsICJ0bXMiOiBmYWxzZX0KICAgICAgICAgICAgKS5hZGRUbyhtYXBfOTBlNGZhMTliZjZkNDU0NzgzOTI4MzhiMjk2Y2Q0NzgpOwogICAgICAgIAogICAgCiAgICAgICAgICAgIHZhciB0aWxlX2xheWVyXzhmZGRlYmEyYmFjNTRmOTQ4MGI5MjY5ZTE4MDI0M2M4ID0gTC50aWxlTGF5ZXIoCiAgICAgICAgICAgICAgICAiaHR0cHM6Ly9lYXJ0aGVuZ2luZS5nb29nbGVhcGlzLmNvbS92MWFscGhhL3Byb2plY3RzL2VhcnRoZW5naW5lLWxlZ2FjeS9tYXBzLzg2Y2U4Y2U5ZmI5MGQyZjRiYjExNTNiZDA3OTUzNGIyLWRlODMwMGExOTA2YjQ2M2ViOThkOTJkZjkwODI1YTg4L3RpbGVzL3t6fS97eH0ve3l9IiwKICAgICAgICAgICAgICAgIHsiYXR0cmlidXRpb24iOiAiR29vZ2xlIEVhcnRoIEVuZ2luZSIsICJkZXRlY3RSZXRpbmEiOiBmYWxzZSwgIm1heE5hdGl2ZVpvb20iOiAxOCwgIm1heFpvb20iOiAxOCwgIm1pblpvb20iOiAwLCAibm9XcmFwIjogZmFsc2UsICJvcGFjaXR5IjogMSwgInN1YmRvbWFpbnMiOiAiYWJjIiwgInRtcyI6IGZhbHNlfQogICAgICAgICAgICApLmFkZFRvKG1hcF85MGU0ZmExOWJmNmQ0NTQ3ODM5MjgzOGIyOTZjZDQ3OCk7CiAgICAgICAgCiAgICAKICAgICAgICAgICAgdmFyIHRpbGVfbGF5ZXJfZGM0YWUwYjMyZjU0NDJjZDkxZTkyZTc3MWM2ZWFjYjUgPSBMLnRpbGVMYXllcigKICAgICAgICAgICAgICAgICJodHRwczovL2VhcnRoZW5naW5lLmdvb2dsZWFwaXMuY29tL3YxYWxwaGEvcHJvamVjdHMvZWFydGhlbmdpbmUtbGVnYWN5L21hcHMvZjM4M2YwYzdkOWM4NzMwM2U5Mzk1YjM2YzBhZGRiZTgtNmUwMThlM2MwZWFjMGQ0ZTI1NWYyMzdhMmFkZjMzNTkvdGlsZXMve3p9L3t4fS97eX0iLAogICAgICAgICAgICAgICAgeyJhdHRyaWJ1dGlvbiI6ICJHb29nbGUgRWFydGggRW5naW5lIiwgImRldGVjdFJldGluYSI6IGZhbHNlLCAibWF4TmF0aXZlWm9vbSI6IDE4LCAibWF4Wm9vbSI6IDE4LCAibWluWm9vbSI6IDAsICJub1dyYXAiOiBmYWxzZSwgIm9wYWNpdHkiOiAxLCAic3ViZG9tYWlucyI6ICJhYmMiLCAidG1zIjogZmFsc2V9CiAgICAgICAgICAgICkuYWRkVG8obWFwXzkwZTRmYTE5YmY2ZDQ1NDc4MzkyODM4YjI5NmNkNDc4KTsKICAgICAgICAKICAgIAogICAgICAgICAgICB2YXIgbGF5ZXJfY29udHJvbF8wMzk0NmUwNGI3MDg0NDVhODVmZmExNmVlNDU0NTEyNSA9IHsKICAgICAgICAgICAgICAgIGJhc2VfbGF5ZXJzIDogewogICAgICAgICAgICAgICAgICAgICJzdGFtZW50ZXJyYWluIiA6IHRpbGVfbGF5ZXJfYzEyMGQ4YmYzNmI1NGQwODg2NWExYzJiNmZmYzQyZDUsCiAgICAgICAgICAgICAgICB9LAogICAgICAgICAgICAgICAgb3ZlcmxheXMgOiAgewogICAgICAgICAgICAgICAgICAgICJHb29nbGUgU2F0ZWxsaXRlIiA6IHRpbGVfbGF5ZXJfZDUwYWY0MjM4ZDhlNGI1Nzg2NmM4NzhjMWZkMGFlNGMsCiAgICAgICAgICAgICAgICAgICAgIk5hdHVyYWwgQ29sb3VyIERSWSIgOiB0aWxlX2xheWVyXzE1NDNkZWEzY2EzMTQyZDJiMDVhYjg5ODUxZGNkYjIzLAogICAgICAgICAgICAgICAgICAgICJTaG9ydC13YXZlIEluZnJhcmVkIERSWSIgOiB0aWxlX2xheWVyX2E4YmQ4Nzc3YmNlYTQ3MzdhMGIyZDk3MTUyNmUyMTgyLAogICAgICAgICAgICAgICAgICAgICJOYXR1cmFsIENvbG91ciBXRVQiIDogdGlsZV9sYXllcl84ZmRkZWJhMmJhYzU0Zjk0ODBiOTI2OWUxODAyNDNjOCwKICAgICAgICAgICAgICAgICAgICAiU2hvcnQtd2F2ZSBJbmZyYXJlZCBXRVQiIDogdGlsZV9sYXllcl9kYzRhZTBiMzJmNTQ0MmNkOTFlOTJlNzcxYzZlYWNiNSwKICAgICAgICAgICAgICAgIH0sCiAgICAgICAgICAgIH07CiAgICAgICAgICAgIEwuY29udHJvbC5sYXllcnMoCiAgICAgICAgICAgICAgICBsYXllcl9jb250cm9sXzAzOTQ2ZTA0YjcwODQ0NWE4NWZmYTE2ZWU0NTQ1MTI1LmJhc2VfbGF5ZXJzLAogICAgICAgICAgICAgICAgbGF5ZXJfY29udHJvbF8wMzk0NmUwNGI3MDg0NDVhODVmZmExNmVlNDU0NTEyNS5vdmVybGF5cywKICAgICAgICAgICAgICAgIHsiYXV0b1pJbmRleCI6IHRydWUsICJjb2xsYXBzZWQiOiB0cnVlLCAicG9zaXRpb24iOiAidG9wcmlnaHQifQogICAgICAgICAgICApLmFkZFRvKG1hcF85MGU0ZmExOWJmNmQ0NTQ3ODM5MjgzOGIyOTZjZDQ3OCk7CiAgICAgICAgCjwvc2NyaXB0Pg== onload=\"this.contentDocument.open();this.contentDocument.write(atob(this.getAttribute('data-html')));this.contentDocument.close();\" allowfullscreen webkitallowfullscreen mozallowfullscreen></iframe></div></div>"
            ],
            "text/plain": [
              "<folium.folium.Map at 0x7fe38e7095c0>"
            ]
          },
          "metadata": {
            "tags": []
          }
        }
      ]
    },
    {
      "cell_type": "markdown",
      "metadata": {
        "id": "ZfUzyf9JwDj3"
      },
      "source": [
        "<h3>Flood indexes</h3>\n",
        "There is a large range of flood detection related indexes. Some of the most basic are presented below. They can be applied to other product even if the description of the bands may slightly change.\n",
        "\n",
        "*   Normalized Difference Water Index : water has positive values \n",
        "\n",
        "$NDWI = \\frac{(NIR-SWIR-2)}{(NIR+SWIR-2)}$\n",
        "\n",
        "*   Modified Normalized Difference Water Index : water has positive values\n",
        "\n",
        "$mNDWI = \\frac{(Green-MIR)}{(Green+MIR)}$\n",
        "\n",
        "* Water Ratio Index : \n",
        "\n",
        "$WRI = \\frac{(Green+Red)}{(NIR+SWIR)}$\n",
        "\n",
        "For MCD43A4 : Red is band 1, NIR is band 2, Green is band 4 and MIR is band 7"
      ]
    },
    {
      "cell_type": "code",
      "metadata": {
        "id": "mA0UdyMHwJBO",
        "outputId": "eceaa398-f974-4e12-8216-7787fa3fa11c",
        "colab": {
          "base_uri": "https://localhost:8080/",
          "height": 826
        }
      },
      "source": [
        "poi = ee.Geometry.Point([-57, -18.8])\n",
        "MOD = ee.ImageCollection(\"MODIS/006/MCD43A4\").filterBounds(poi)\n",
        "\n",
        "# Green is band 4 and MIR band 6\n",
        "green = 'Nadir_Reflectance_Band4'\n",
        "MIR = 'Nadir_Reflectance_Band7'\n",
        "NIR = 'Nadir_Reflectance_Band2'\n",
        "SWIR= 'Nadir_Reflectance_Band6'\n",
        "red = 'Nadir_Reflectance_Band1'\n",
        "minmNDWI= -1; maxmNDWI = 0.5\n",
        "minNDWI= 0; maxNDWI = 0.5\n",
        "minWRI = 50; maxWRI = 200\n",
        "\n",
        "# DRY DATE\n",
        "MOD_dry = MOD.filterDate('2019-08-01', '2019-08-30').min()\n",
        "MOD_DRY_NDWI = MOD_dry.select(NIR).subtract(MOD_dry.select(SWIR)).divide(MOD_dry.select(NIR).add(MOD_dry.select(SWIR)))\n",
        "MOD_DRY_NDWI = MOD_DRY_NDWI.visualize(min=minNDWI, max=maxNDWI)\n",
        "#\n",
        "MOD_DRY_mNDWI = MOD_dry.select(green).subtract(MOD_dry.select(MIR)).divide(MOD_dry.select(green).add(MOD_dry.select(MIR)))\n",
        "MOD_DRY_mNDWI = MOD_DRY_mNDWI.visualize(min=minmNDWI, max=maxmNDWI)\n",
        "#\n",
        "WRI_DRY = MOD_dry.select(green).add(MOD_dry.select(red)).divide(MOD_dry.select(NIR).add(MOD_dry.select(SWIR)))\n",
        "WRI_DRY = MOD_DRY_NDWI.visualize(min=minWRI, max=maxWRI)\n",
        "# WET DATE\n",
        "\n",
        "MOD_wet = MOD.filterDate('2019-04-01', '2019-04-30').min()\n",
        "MOD_WET_NDWI = MOD_wet.select(NIR).subtract(MOD_wet.select(SWIR)).divide(MOD_wet.select(NIR).add(MOD_wet.select(SWIR)))\n",
        "MOD_WET_NDWI = MOD_WET_NDWI.visualize(min=minNDWI, max=maxNDWI)\n",
        "#\n",
        "MOD_WET_mNDWI = MOD_wet.select(green).subtract(MOD_wet.select(MIR)).divide(MOD_wet.select(green).add(MOD_wet.select(MIR)))\n",
        "MOD_WET_mNDWI = MOD_WET_mNDWI.visualize(min=minmNDWI, max=maxmNDWI)\n",
        "#\n",
        "WRI_WET = MOD_wet.select(green).add(MOD_wet.select(red)).divide(MOD_wet.select(NIR).add(MOD_wet.select(SWIR)))\n",
        "WRI_WET = MOD_WET_NDWI.visualize(min=minWRI, max=maxWRI)\n",
        "\n",
        "myMap = folium.Map(location=[-18.8, -57], zoom_start=8, tiles='Stamen Terrain', control_scale=True, detect_retina=True,width=600, height=600)\n",
        "myMap.setOptions('HYBRID')\n",
        "\n",
        "myMap.addLayer(MOD_DRY_mNDWI, {'overlay':True, \"palette\": ['blue', 'green', 'red']}, 'mNDWI DRY')\n",
        "myMap.addLayer(MOD_WET_mNDWI, {'overlay':True, \"palette\": ['blue', 'green', 'red']}, 'mNDWI WET')\n",
        "myMap.addLayer(MOD_DRY_NDWI, {'overlay':True, \"palette\": ['blue', 'green', 'red']}, 'NDWI DRY')\n",
        "myMap.addLayer(MOD_WET_NDWI, {'overlay':True, \"palette\": ['blue', 'green', 'red']}, 'NDWI WET')\n",
        "myMap.addLayer(WRI_DRY, {'overlay':True, \"palette\": ['blue', 'green', 'red']}, 'WRI DRY')\n",
        "myMap.addLayer(WRI_WET, {'overlay':True, \"palette\": ['blue', 'green', 'red']}, 'WRI WET')\n",
        "#myMap.addLayer(MOD_dry_swir, {'overlay':True}, 'Short-wave Infrared DRY')\n",
        "#myMap.addLayer(MOD_wet_rgb, {'overlay':True}, 'Natural Colour WET')\n",
        "#myMap.addLayer(MOD_wet_swir, {'overlay':True}, 'Short-wave Infrared WET')\n",
        "\n",
        "# Add a layer control widget to the map\n",
        "folium.LayerControl().add_to(myMap)\n",
        "\n",
        "# Show the map!\n",
        "display(myMap)"
      ],
      "execution_count": 18,
      "outputs": [
        {
          "output_type": "display_data",
          "data": {
            "text/html": [
              "<div style=\"width:100%;\"><div style=\"position:relative;width:100%;height:0;padding-bottom:60%;\"><span style=\"color:#565656\">Make this Notebook Trusted to load map: File -> Trust Notebook</span><iframe src=\"about:blank\" style=\"position:absolute;width:100%;height:100%;left:0;top:0;border:none !important;\" data-html=PCFET0NUWVBFIGh0bWw+CjxoZWFkPiAgICAKICAgIDxtZXRhIGh0dHAtZXF1aXY9ImNvbnRlbnQtdHlwZSIgY29udGVudD0idGV4dC9odG1sOyBjaGFyc2V0PVVURi04IiAvPgogICAgCiAgICAgICAgPHNjcmlwdD4KICAgICAgICAgICAgTF9OT19UT1VDSCA9IGZhbHNlOwogICAgICAgICAgICBMX0RJU0FCTEVfM0QgPSBmYWxzZTsKICAgICAgICA8L3NjcmlwdD4KICAgIAogICAgPHNjcmlwdCBzcmM9Imh0dHBzOi8vY2RuLmpzZGVsaXZyLm5ldC9ucG0vbGVhZmxldEAxLjYuMC9kaXN0L2xlYWZsZXQuanMiPjwvc2NyaXB0PgogICAgPHNjcmlwdCBzcmM9Imh0dHBzOi8vY29kZS5qcXVlcnkuY29tL2pxdWVyeS0xLjEyLjQubWluLmpzIj48L3NjcmlwdD4KICAgIDxzY3JpcHQgc3JjPSJodHRwczovL21heGNkbi5ib290c3RyYXBjZG4uY29tL2Jvb3RzdHJhcC8zLjIuMC9qcy9ib290c3RyYXAubWluLmpzIj48L3NjcmlwdD4KICAgIDxzY3JpcHQgc3JjPSJodHRwczovL2NkbmpzLmNsb3VkZmxhcmUuY29tL2FqYXgvbGlicy9MZWFmbGV0LmF3ZXNvbWUtbWFya2Vycy8yLjAuMi9sZWFmbGV0LmF3ZXNvbWUtbWFya2Vycy5qcyI+PC9zY3JpcHQ+CiAgICA8bGluayByZWw9InN0eWxlc2hlZXQiIGhyZWY9Imh0dHBzOi8vY2RuLmpzZGVsaXZyLm5ldC9ucG0vbGVhZmxldEAxLjYuMC9kaXN0L2xlYWZsZXQuY3NzIi8+CiAgICA8bGluayByZWw9InN0eWxlc2hlZXQiIGhyZWY9Imh0dHBzOi8vbWF4Y2RuLmJvb3RzdHJhcGNkbi5jb20vYm9vdHN0cmFwLzMuMi4wL2Nzcy9ib290c3RyYXAubWluLmNzcyIvPgogICAgPGxpbmsgcmVsPSJzdHlsZXNoZWV0IiBocmVmPSJodHRwczovL21heGNkbi5ib290c3RyYXBjZG4uY29tL2Jvb3RzdHJhcC8zLjIuMC9jc3MvYm9vdHN0cmFwLXRoZW1lLm1pbi5jc3MiLz4KICAgIDxsaW5rIHJlbD0ic3R5bGVzaGVldCIgaHJlZj0iaHR0cHM6Ly9tYXhjZG4uYm9vdHN0cmFwY2RuLmNvbS9mb250LWF3ZXNvbWUvNC42LjMvY3NzL2ZvbnQtYXdlc29tZS5taW4uY3NzIi8+CiAgICA8bGluayByZWw9InN0eWxlc2hlZXQiIGhyZWY9Imh0dHBzOi8vY2RuanMuY2xvdWRmbGFyZS5jb20vYWpheC9saWJzL0xlYWZsZXQuYXdlc29tZS1tYXJrZXJzLzIuMC4yL2xlYWZsZXQuYXdlc29tZS1tYXJrZXJzLmNzcyIvPgogICAgPGxpbmsgcmVsPSJzdHlsZXNoZWV0IiBocmVmPSJodHRwczovL3Jhd2Nkbi5naXRoYWNrLmNvbS9weXRob24tdmlzdWFsaXphdGlvbi9mb2xpdW0vbWFzdGVyL2ZvbGl1bS90ZW1wbGF0ZXMvbGVhZmxldC5hd2Vzb21lLnJvdGF0ZS5jc3MiLz4KICAgIDxzdHlsZT5odG1sLCBib2R5IHt3aWR0aDogMTAwJTtoZWlnaHQ6IDEwMCU7bWFyZ2luOiAwO3BhZGRpbmc6IDA7fTwvc3R5bGU+CiAgICA8c3R5bGU+I21hcCB7cG9zaXRpb246YWJzb2x1dGU7dG9wOjA7Ym90dG9tOjA7cmlnaHQ6MDtsZWZ0OjA7fTwvc3R5bGU+CiAgICAKICAgICAgICAgICAgPG1ldGEgbmFtZT0idmlld3BvcnQiIGNvbnRlbnQ9IndpZHRoPWRldmljZS13aWR0aCwKICAgICAgICAgICAgICAgIGluaXRpYWwtc2NhbGU9MS4wLCBtYXhpbXVtLXNjYWxlPTEuMCwgdXNlci1zY2FsYWJsZT1ubyIgLz4KICAgICAgICAgICAgPHN0eWxlPgogICAgICAgICAgICAgICAgI21hcF8yYzkxYTgzMGQ4MWU0NDQ3ODZkZTk3NzU0M2U4NWY0ZiB7CiAgICAgICAgICAgICAgICAgICAgcG9zaXRpb246IHJlbGF0aXZlOwogICAgICAgICAgICAgICAgICAgIHdpZHRoOiA2MDAuMHB4OwogICAgICAgICAgICAgICAgICAgIGhlaWdodDogNjAwLjBweDsKICAgICAgICAgICAgICAgICAgICBsZWZ0OiAwLjAlOwogICAgICAgICAgICAgICAgICAgIHRvcDogMC4wJTsKICAgICAgICAgICAgICAgIH0KICAgICAgICAgICAgPC9zdHlsZT4KICAgICAgICAKPC9oZWFkPgo8Ym9keT4gICAgCiAgICAKICAgICAgICAgICAgPGRpdiBjbGFzcz0iZm9saXVtLW1hcCIgaWQ9Im1hcF8yYzkxYTgzMGQ4MWU0NDQ3ODZkZTk3NzU0M2U4NWY0ZiIgPjwvZGl2PgogICAgICAgIAo8L2JvZHk+CjxzY3JpcHQ+ICAgIAogICAgCiAgICAgICAgICAgIHZhciBtYXBfMmM5MWE4MzBkODFlNDQ0Nzg2ZGU5Nzc1NDNlODVmNGYgPSBMLm1hcCgKICAgICAgICAgICAgICAgICJtYXBfMmM5MWE4MzBkODFlNDQ0Nzg2ZGU5Nzc1NDNlODVmNGYiLAogICAgICAgICAgICAgICAgewogICAgICAgICAgICAgICAgICAgIGNlbnRlcjogWy0xOC44LCAtNTcuMF0sCiAgICAgICAgICAgICAgICAgICAgY3JzOiBMLkNSUy5FUFNHMzg1NywKICAgICAgICAgICAgICAgICAgICB6b29tOiA4LAogICAgICAgICAgICAgICAgICAgIHpvb21Db250cm9sOiB0cnVlLAogICAgICAgICAgICAgICAgICAgIHByZWZlckNhbnZhczogZmFsc2UsCiAgICAgICAgICAgICAgICAgICAgZGV0ZWN0UmV0aW5hOiB0cnVlLAogICAgICAgICAgICAgICAgfQogICAgICAgICAgICApOwogICAgICAgICAgICBMLmNvbnRyb2wuc2NhbGUoKS5hZGRUbyhtYXBfMmM5MWE4MzBkODFlNDQ0Nzg2ZGU5Nzc1NDNlODVmNGYpOwoKICAgICAgICAgICAgCgogICAgICAgIAogICAgCiAgICAgICAgICAgIHZhciB0aWxlX2xheWVyXzVhN2RiNjQ1MTYzYjQ3N2I5N2UxNjgyZmU2MDlkMGRlID0gTC50aWxlTGF5ZXIoCiAgICAgICAgICAgICAgICAiaHR0cHM6Ly9zdGFtZW4tdGlsZXMte3N9LmEuc3NsLmZhc3RseS5uZXQvdGVycmFpbi97en0ve3h9L3t5fS5qcGciLAogICAgICAgICAgICAgICAgeyJhdHRyaWJ1dGlvbiI6ICJNYXAgdGlsZXMgYnkgXHUwMDNjYSBocmVmPVwiaHR0cDovL3N0YW1lbi5jb21cIlx1MDAzZVN0YW1lbiBEZXNpZ25cdTAwM2MvYVx1MDAzZSwgdW5kZXIgXHUwMDNjYSBocmVmPVwiaHR0cDovL2NyZWF0aXZlY29tbW9ucy5vcmcvbGljZW5zZXMvYnkvMy4wXCJcdTAwM2VDQyBCWSAzLjBcdTAwM2MvYVx1MDAzZS4gRGF0YSBieSBcdTAwMjZjb3B5OyBcdTAwM2NhIGhyZWY9XCJodHRwOi8vb3BlbnN0cmVldG1hcC5vcmdcIlx1MDAzZU9wZW5TdHJlZXRNYXBcdTAwM2MvYVx1MDAzZSwgdW5kZXIgXHUwMDNjYSBocmVmPVwiaHR0cDovL2NyZWF0aXZlY29tbW9ucy5vcmcvbGljZW5zZXMvYnktc2EvMy4wXCJcdTAwM2VDQyBCWSBTQVx1MDAzYy9hXHUwMDNlLiIsICJkZXRlY3RSZXRpbmEiOiBmYWxzZSwgIm1heE5hdGl2ZVpvb20iOiAxOCwgIm1heFpvb20iOiAxOCwgIm1pblpvb20iOiAwLCAibm9XcmFwIjogZmFsc2UsICJvcGFjaXR5IjogMSwgInN1YmRvbWFpbnMiOiAiYWJjIiwgInRtcyI6IGZhbHNlfQogICAgICAgICAgICApLmFkZFRvKG1hcF8yYzkxYTgzMGQ4MWU0NDQ3ODZkZTk3NzU0M2U4NWY0Zik7CiAgICAgICAgCiAgICAKICAgICAgICAgICAgdmFyIHRpbGVfbGF5ZXJfNWM4NTA4N2YxOWM0NDVkZmE5ODZiM2M3YmM1ZTMwODkgPSBMLnRpbGVMYXllcigKICAgICAgICAgICAgICAgICJodHRwczovL210MS5nb29nbGUuY29tL3Z0L2x5cnM9eVx1MDAyNng9e3h9XHUwMDI2eT17eX1cdTAwMjZ6PXt6fSIsCiAgICAgICAgICAgICAgICB7ImF0dHJpYnV0aW9uIjogIkdvb2dsZSIsICJkZXRlY3RSZXRpbmEiOiBmYWxzZSwgIm1heE5hdGl2ZVpvb20iOiAxOCwgIm1heFpvb20iOiAxOCwgIm1pblpvb20iOiAwLCAibm9XcmFwIjogZmFsc2UsICJvcGFjaXR5IjogMSwgInN1YmRvbWFpbnMiOiAiYWJjIiwgInRtcyI6IGZhbHNlfQogICAgICAgICAgICApLmFkZFRvKG1hcF8yYzkxYTgzMGQ4MWU0NDQ3ODZkZTk3NzU0M2U4NWY0Zik7CiAgICAgICAgCiAgICAKICAgICAgICAgICAgdmFyIHRpbGVfbGF5ZXJfNjc3NjEwYjczNjY1NGExMjliNmVlMmY0NWQ0ZjZiMjkgPSBMLnRpbGVMYXllcigKICAgICAgICAgICAgICAgICJodHRwczovL2VhcnRoZW5naW5lLmdvb2dsZWFwaXMuY29tL3YxYWxwaGEvcHJvamVjdHMvZWFydGhlbmdpbmUtbGVnYWN5L21hcHMvZmE5MTJjYzcxOTZjZGQ1MzNiYzMxOTdiYjgyZjM5MmYtMTg1ZDlmM2QxZjAxMTZmMmM4ZjI3ZDAzN2I5ZjNlMWMvdGlsZXMve3p9L3t4fS97eX0iLAogICAgICAgICAgICAgICAgeyJhdHRyaWJ1dGlvbiI6ICJHb29nbGUgRWFydGggRW5naW5lIiwgImRldGVjdFJldGluYSI6IGZhbHNlLCAibWF4TmF0aXZlWm9vbSI6IDE4LCAibWF4Wm9vbSI6IDE4LCAibWluWm9vbSI6IDAsICJub1dyYXAiOiBmYWxzZSwgIm9wYWNpdHkiOiAxLCAic3ViZG9tYWlucyI6ICJhYmMiLCAidG1zIjogZmFsc2V9CiAgICAgICAgICAgICkuYWRkVG8obWFwXzJjOTFhODMwZDgxZTQ0NDc4NmRlOTc3NTQzZTg1ZjRmKTsKICAgICAgICAKICAgIAogICAgICAgICAgICB2YXIgdGlsZV9sYXllcl8wNDI5NWNkMGVmMzU0MzRjYmYyNTA4ODU1NDE0YTY3MyA9IEwudGlsZUxheWVyKAogICAgICAgICAgICAgICAgImh0dHBzOi8vZWFydGhlbmdpbmUuZ29vZ2xlYXBpcy5jb20vdjFhbHBoYS9wcm9qZWN0cy9lYXJ0aGVuZ2luZS1sZWdhY3kvbWFwcy80ODAwM2RlMzJlM2IzZjNlNzEwYWY1ODkyYjBiYmMyMi1mNjBmYjA5ZTE0OTNiNDFjMDUzYjc1NGNkNmMyMmFjZi90aWxlcy97en0ve3h9L3t5fSIsCiAgICAgICAgICAgICAgICB7ImF0dHJpYnV0aW9uIjogIkdvb2dsZSBFYXJ0aCBFbmdpbmUiLCAiZGV0ZWN0UmV0aW5hIjogZmFsc2UsICJtYXhOYXRpdmVab29tIjogMTgsICJtYXhab29tIjogMTgsICJtaW5ab29tIjogMCwgIm5vV3JhcCI6IGZhbHNlLCAib3BhY2l0eSI6IDEsICJzdWJkb21haW5zIjogImFiYyIsICJ0bXMiOiBmYWxzZX0KICAgICAgICAgICAgKS5hZGRUbyhtYXBfMmM5MWE4MzBkODFlNDQ0Nzg2ZGU5Nzc1NDNlODVmNGYpOwogICAgICAgIAogICAgCiAgICAgICAgICAgIHZhciB0aWxlX2xheWVyX2FkMmFiZGMwMWJjODQ0ZmRiY2YyYjUyZTM4MTdlOTBmID0gTC50aWxlTGF5ZXIoCiAgICAgICAgICAgICAgICAiaHR0cHM6Ly9lYXJ0aGVuZ2luZS5nb29nbGVhcGlzLmNvbS92MWFscGhhL3Byb2plY3RzL2VhcnRoZW5naW5lLWxlZ2FjeS9tYXBzLzY5ZjdmMGI0NGViMGZmMDgxM2NkOTAyNjIyZDJjMmNiLTY4ODk1ZGRlNmMzNjExYWMzOWYzOTM4NGMzOWM2ZjA5L3RpbGVzL3t6fS97eH0ve3l9IiwKICAgICAgICAgICAgICAgIHsiYXR0cmlidXRpb24iOiAiR29vZ2xlIEVhcnRoIEVuZ2luZSIsICJkZXRlY3RSZXRpbmEiOiBmYWxzZSwgIm1heE5hdGl2ZVpvb20iOiAxOCwgIm1heFpvb20iOiAxOCwgIm1pblpvb20iOiAwLCAibm9XcmFwIjogZmFsc2UsICJvcGFjaXR5IjogMSwgInN1YmRvbWFpbnMiOiAiYWJjIiwgInRtcyI6IGZhbHNlfQogICAgICAgICAgICApLmFkZFRvKG1hcF8yYzkxYTgzMGQ4MWU0NDQ3ODZkZTk3NzU0M2U4NWY0Zik7CiAgICAgICAgCiAgICAKICAgICAgICAgICAgdmFyIHRpbGVfbGF5ZXJfNWM5YmJkN2EzZDU1NGVmNjgyNjAwZGFmYzcyMmM0M2YgPSBMLnRpbGVMYXllcigKICAgICAgICAgICAgICAgICJodHRwczovL2VhcnRoZW5naW5lLmdvb2dsZWFwaXMuY29tL3YxYWxwaGEvcHJvamVjdHMvZWFydGhlbmdpbmUtbGVnYWN5L21hcHMvMGYyMGQ0ZGJkMTJkMjI2Y2I4NjZhZjI1YzM1MWUxZTItMWU5MTRlYjE1YTZjNDU1YWY1MmVkYzA5NjZkMTkxMjEvdGlsZXMve3p9L3t4fS97eX0iLAogICAgICAgICAgICAgICAgeyJhdHRyaWJ1dGlvbiI6ICJHb29nbGUgRWFydGggRW5naW5lIiwgImRldGVjdFJldGluYSI6IGZhbHNlLCAibWF4TmF0aXZlWm9vbSI6IDE4LCAibWF4Wm9vbSI6IDE4LCAibWluWm9vbSI6IDAsICJub1dyYXAiOiBmYWxzZSwgIm9wYWNpdHkiOiAxLCAic3ViZG9tYWlucyI6ICJhYmMiLCAidG1zIjogZmFsc2V9CiAgICAgICAgICAgICkuYWRkVG8obWFwXzJjOTFhODMwZDgxZTQ0NDc4NmRlOTc3NTQzZTg1ZjRmKTsKICAgICAgICAKICAgIAogICAgICAgICAgICB2YXIgdGlsZV9sYXllcl9kYzMzODE5MWQ3NWQ0NmE2OTgyYWNkNDNjYWE4MDQxMSA9IEwudGlsZUxheWVyKAogICAgICAgICAgICAgICAgImh0dHBzOi8vZWFydGhlbmdpbmUuZ29vZ2xlYXBpcy5jb20vdjFhbHBoYS9wcm9qZWN0cy9lYXJ0aGVuZ2luZS1sZWdhY3kvbWFwcy8xNWZmZTA0YzkyMzZjN2RiMmNhNmQ3NzYyYWNjNzhkZi1hMWUyZTI4YTA3NDhkMzU5MDU1OGU4NGU5ZDYzZGNiYi90aWxlcy97en0ve3h9L3t5fSIsCiAgICAgICAgICAgICAgICB7ImF0dHJpYnV0aW9uIjogIkdvb2dsZSBFYXJ0aCBFbmdpbmUiLCAiZGV0ZWN0UmV0aW5hIjogZmFsc2UsICJtYXhOYXRpdmVab29tIjogMTgsICJtYXhab29tIjogMTgsICJtaW5ab29tIjogMCwgIm5vV3JhcCI6IGZhbHNlLCAib3BhY2l0eSI6IDEsICJzdWJkb21haW5zIjogImFiYyIsICJ0bXMiOiBmYWxzZX0KICAgICAgICAgICAgKS5hZGRUbyhtYXBfMmM5MWE4MzBkODFlNDQ0Nzg2ZGU5Nzc1NDNlODVmNGYpOwogICAgICAgIAogICAgCiAgICAgICAgICAgIHZhciB0aWxlX2xheWVyXzQ2MGY3MDU2MTE1NDQ0OGY5YTU5NzQ0MmNhMzIwNTQ5ID0gTC50aWxlTGF5ZXIoCiAgICAgICAgICAgICAgICAiaHR0cHM6Ly9lYXJ0aGVuZ2luZS5nb29nbGVhcGlzLmNvbS92MWFscGhhL3Byb2plY3RzL2VhcnRoZW5naW5lLWxlZ2FjeS9tYXBzL2I3OTUxOGQ2YmNkYjc5YTAzMjMwMjM4ZDZlZDEwZjA5LTQyZWI3NDUzOWZkYzYzNjliNzJiMWVjMjk4MTE1NmY5L3RpbGVzL3t6fS97eH0ve3l9IiwKICAgICAgICAgICAgICAgIHsiYXR0cmlidXRpb24iOiAiR29vZ2xlIEVhcnRoIEVuZ2luZSIsICJkZXRlY3RSZXRpbmEiOiBmYWxzZSwgIm1heE5hdGl2ZVpvb20iOiAxOCwgIm1heFpvb20iOiAxOCwgIm1pblpvb20iOiAwLCAibm9XcmFwIjogZmFsc2UsICJvcGFjaXR5IjogMSwgInN1YmRvbWFpbnMiOiAiYWJjIiwgInRtcyI6IGZhbHNlfQogICAgICAgICAgICApLmFkZFRvKG1hcF8yYzkxYTgzMGQ4MWU0NDQ3ODZkZTk3NzU0M2U4NWY0Zik7CiAgICAgICAgCiAgICAKICAgICAgICAgICAgdmFyIGxheWVyX2NvbnRyb2xfMjcxOGQzYzYxYjZhNGI2ZDhmNWU5NzA1NGJlOWY2MWEgPSB7CiAgICAgICAgICAgICAgICBiYXNlX2xheWVycyA6IHsKICAgICAgICAgICAgICAgICAgICAic3RhbWVudGVycmFpbiIgOiB0aWxlX2xheWVyXzVhN2RiNjQ1MTYzYjQ3N2I5N2UxNjgyZmU2MDlkMGRlLAogICAgICAgICAgICAgICAgfSwKICAgICAgICAgICAgICAgIG92ZXJsYXlzIDogIHsKICAgICAgICAgICAgICAgICAgICAiR29vZ2xlIFNhdGVsbGl0ZSIgOiB0aWxlX2xheWVyXzVjODUwODdmMTljNDQ1ZGZhOTg2YjNjN2JjNWUzMDg5LAogICAgICAgICAgICAgICAgICAgICJtTkRXSSBEUlkiIDogdGlsZV9sYXllcl82Nzc2MTBiNzM2NjU0YTEyOWI2ZWUyZjQ1ZDRmNmIyOSwKICAgICAgICAgICAgICAgICAgICAibU5EV0kgV0VUIiA6IHRpbGVfbGF5ZXJfMDQyOTVjZDBlZjM1NDM0Y2JmMjUwODg1NTQxNGE2NzMsCiAgICAgICAgICAgICAgICAgICAgIk5EV0kgRFJZIiA6IHRpbGVfbGF5ZXJfYWQyYWJkYzAxYmM4NDRmZGJjZjJiNTJlMzgxN2U5MGYsCiAgICAgICAgICAgICAgICAgICAgIk5EV0kgV0VUIiA6IHRpbGVfbGF5ZXJfNWM5YmJkN2EzZDU1NGVmNjgyNjAwZGFmYzcyMmM0M2YsCiAgICAgICAgICAgICAgICAgICAgIldSSSBEUlkiIDogdGlsZV9sYXllcl9kYzMzODE5MWQ3NWQ0NmE2OTgyYWNkNDNjYWE4MDQxMSwKICAgICAgICAgICAgICAgICAgICAiV1JJIFdFVCIgOiB0aWxlX2xheWVyXzQ2MGY3MDU2MTE1NDQ0OGY5YTU5NzQ0MmNhMzIwNTQ5LAogICAgICAgICAgICAgICAgfSwKICAgICAgICAgICAgfTsKICAgICAgICAgICAgTC5jb250cm9sLmxheWVycygKICAgICAgICAgICAgICAgIGxheWVyX2NvbnRyb2xfMjcxOGQzYzYxYjZhNGI2ZDhmNWU5NzA1NGJlOWY2MWEuYmFzZV9sYXllcnMsCiAgICAgICAgICAgICAgICBsYXllcl9jb250cm9sXzI3MThkM2M2MWI2YTRiNmQ4ZjVlOTcwNTRiZTlmNjFhLm92ZXJsYXlzLAogICAgICAgICAgICAgICAgeyJhdXRvWkluZGV4IjogdHJ1ZSwgImNvbGxhcHNlZCI6IHRydWUsICJwb3NpdGlvbiI6ICJ0b3ByaWdodCJ9CiAgICAgICAgICAgICkuYWRkVG8obWFwXzJjOTFhODMwZDgxZTQ0NDc4NmRlOTc3NTQzZTg1ZjRmKTsKICAgICAgICAKPC9zY3JpcHQ+ onload=\"this.contentDocument.open();this.contentDocument.write(atob(this.getAttribute('data-html')));this.contentDocument.close();\" allowfullscreen webkitallowfullscreen mozallowfullscreen></iframe></div></div>"
            ],
            "text/plain": [
              "<folium.folium.Map at 0x7fe399471048>"
            ]
          },
          "metadata": {
            "tags": []
          }
        }
      ]
    },
    {
      "cell_type": "markdown",
      "metadata": {
        "id": "WFie1abpscUj"
      },
      "source": [
        "<h2>Landsat</h2>\n",
        "The previous "
      ]
    },
    {
      "cell_type": "code",
      "metadata": {
        "id": "LE63vet8scy5",
        "outputId": "f9683be4-de9a-439a-86b7-06d288736ddc",
        "colab": {
          "base_uri": "https://localhost:8080/",
          "height": 826
        }
      },
      "source": [
        "poi = ee.Geometry.Point([-57, -18.8])\n",
        "MOD = ee.ImageCollection('LANDSAT/LC08/C01/T1_SR').filterBounds(poi)\n",
        "\n",
        "MOD_dry = MOD.filterDate('2019-07-01', '2020-07-30').min()\n",
        "# Green is band 4 and MIR band 6\n",
        "green = 'B3'\n",
        "MIR = 'B7'\n",
        "NIR = 'B5'\n",
        "red = 'B1'\n",
        "SWIR = 'B7'\n",
        "minmNDWI= -1; maxmNDWI = 0.4\n",
        "minNDWI= 0; maxNDWI = 0.9\n",
        "minWRI = 50; maxWRI = 210\n",
        "\n",
        "# DRY DATE\n",
        "MOD_dry = MOD.filterDate('2019-07-15', '2019-08-31').min()\n",
        "MOD_DRY_NDWI = MOD_dry.select(NIR).subtract(MOD_dry.select(SWIR)).divide(MOD_dry.select(NIR).add(MOD_dry.select(SWIR)))\n",
        "MOD_DRY_NDWI = MOD_DRY_NDWI.visualize(min=minNDWI, max=maxNDWI)\n",
        "#\n",
        "MOD_DRY_mNDWI = MOD_dry.select(green).subtract(MOD_dry.select(MIR)).divide(MOD_dry.select(green).add(MOD_dry.select(MIR)))\n",
        "MOD_DRY_mNDWI = MOD_DRY_mNDWI.visualize(min=minmNDWI, max=maxmNDWI)\n",
        "#\n",
        "WRI_DRY = MOD_dry.select(green).add(MOD_dry.select(red)).divide(MOD_dry.select(NIR).add(MOD_dry.select(SWIR)))\n",
        "WRI_DRY = MOD_DRY_NDWI.visualize(min=minWRI, max=maxWRI)\n",
        "# WET DATE\n",
        "\n",
        "MOD_wet = MOD.filterDate('2019-04-01', '2019-04-30').min()\n",
        "MOD_WET_NDWI = MOD_wet.select(NIR).subtract(MOD_wet.select(SWIR)).divide(MOD_wet.select(NIR).add(MOD_wet.select(SWIR)))\n",
        "MOD_WET_NDWI = MOD_WET_NDWI.visualize(min=minNDWI, max=maxNDWI)\n",
        "#\n",
        "MOD_WET_mNDWI = MOD_wet.select(green).subtract(MOD_wet.select(MIR)).divide(MOD_wet.select(green).add(MOD_wet.select(MIR)))\n",
        "MOD_WET_mNDWI = MOD_WET_mNDWI.visualize(min=minmNDWI, max=maxmNDWI)\n",
        "#\n",
        "WRI_WET = MOD_wet.select(green).add(MOD_wet.select(red)).divide(MOD_wet.select(NIR).add(MOD_wet.select(SWIR)))\n",
        "WRI_WET = MOD_WET_NDWI.visualize(min=minWRI, max=maxWRI)\n",
        "\n",
        "myMap = folium.Map(location=[-18.8, -57], zoom_start=7, tiles='Stamen Terrain', control_scale=True, detect_retina=True,width=600, height=600)\n",
        "myMap.setOptions('HYBRID')\n",
        "\n",
        "myMap.addLayer(MOD_DRY_mNDWI, {'overlay':True, \"palette\": ['blue', 'green', 'red']}, 'mNDWI DRY')\n",
        "myMap.addLayer(MOD_WET_mNDWI, {'overlay':True, \"palette\": ['blue', 'green', 'red']}, 'mNDWI WET')\n",
        "myMap.addLayer(MOD_DRY_NDWI, {'overlay':True, \"palette\": ['blue', 'green', 'red']}, 'NDWI DRY')\n",
        "myMap.addLayer(MOD_WET_NDWI, {'overlay':True, \"palette\": ['blue', 'green', 'red']}, 'NDWI WET')\n",
        "myMap.addLayer(WRI_DRY, {'overlay':True, \"palette\": ['blue', 'green', 'red']}, 'WRI DRY')\n",
        "myMap.addLayer(WRI_WET, {'overlay':True, \"palette\": ['blue', 'green', 'red']}, 'WRI WET')\n",
        "\n",
        "myMap = folium.Map(location=[-18.8, -57], zoom_start=8, tiles='Stamen Terrain', control_scale=True, detect_retina=True,width=600, height=600)\n",
        "myMap.setOptions('HYBRID')\n",
        "\n",
        "myMap.addLayer(MOD_DRY_mNDWI, {'overlay':True, \"palette\": ['blue', 'green', 'red']}, 'mNDWI DRY')\n",
        "myMap.addLayer(MOD_WET_mNDWI, {'overlay':True, \"palette\": ['blue', 'green', 'red']}, 'mNDWI WET')\n",
        "myMap.addLayer(MOD_DRY_NDWI, {'overlay':True, \"palette\": ['blue', 'green', 'red']}, 'NDWI DRY')\n",
        "myMap.addLayer(MOD_WET_NDWI, {'overlay':True, \"palette\": ['blue', 'green', 'red']}, 'NDWI WET')\n",
        "myMap.addLayer(WRI_DRY, {'overlay':True, \"palette\": ['blue', 'green', 'red']}, 'WRI DRY')\n",
        "myMap.addLayer(WRI_WET, {'overlay':True, \"palette\": ['blue', 'green', 'red']}, 'WRI WET')\n",
        "\n",
        "# Add a layer control widget to the map\n",
        "folium.LayerControl().add_to(myMap)\n",
        "\n",
        "# Show the map!\n",
        "display(myMap)"
      ],
      "execution_count": 27,
      "outputs": [
        {
          "output_type": "display_data",
          "data": {
            "text/html": [
              "<div style=\"width:100%;\"><div style=\"position:relative;width:100%;height:0;padding-bottom:60%;\"><span style=\"color:#565656\">Make this Notebook Trusted to load map: File -> Trust Notebook</span><iframe src=\"about:blank\" style=\"position:absolute;width:100%;height:100%;left:0;top:0;border:none !important;\" data-html=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 onload=\"this.contentDocument.open();this.contentDocument.write(atob(this.getAttribute('data-html')));this.contentDocument.close();\" allowfullscreen webkitallowfullscreen mozallowfullscreen></iframe></div></div>"
            ],
            "text/plain": [
              "<folium.folium.Map at 0x7fe38e622c50>"
            ]
          },
          "metadata": {
            "tags": []
          }
        }
      ]
    },
    {
      "cell_type": "markdown",
      "metadata": {
        "id": "JIFsgGqDuQAW"
      },
      "source": [
        "<h2>Tasseled Cap Wetness</h2>\n",
        "\n",
        "The Tasseled Cap Index (Kauth and Thomas, 1976) are indicators generated from a transformation of the spectral information of satellite data. It is composed by 3 band : \n",
        "\n",
        "*   Brightness : for the ground\n",
        "*   greeness : for the vegetation\n",
        "*   Wetness : for the interaction of soil and canopy moisture\n",
        "\n",
        "These indices are commonly used for the analysis of vegetation while the wetness band may be used for flood detection.\n"
      ]
    },
    {
      "cell_type": "code",
      "metadata": {
        "id": "r2sB5AWvuVPO",
        "outputId": "73e4799c-0d5f-4e28-f022-f75a2579b003",
        "colab": {
          "base_uri": "https://localhost:8080/",
          "height": 826
        }
      },
      "source": [
        "coefficients = ee.Array([\n",
        "  [0.3037, 0.2793, 0.4743, 0.5585, 0.5082, 0.1863],\n",
        "  [-0.2848, -0.2435, -0.5436, 0.7243, 0.0840, -0.1800],\n",
        "  [0.1509, 0.1973, 0.3279, 0.3406, -0.7112, -0.4572],\n",
        "  [-0.8242, 0.0849, 0.4392, -0.0580, 0.2012, -0.2768],\n",
        "  [-0.3280, 0.0549, 0.1075, 0.1855, -0.4357, 0.8085],\n",
        "  [0.1084, -0.9022, 0.4120, 0.0573, -0.0251, 0.0238]\n",
        "]);\n",
        "\n",
        "poi = ee.Geometry.Point([-57, -18.8])\n",
        "MOD = ee.ImageCollection('LANDSAT/LC08/C01/T1_TOA').filterBounds(poi).select(['B1', 'B2', 'B3', 'B4', 'B5', 'B7']);\n",
        "MOD_wet = MOD.filterDate('2019-04-01', '2020-04-30').min()\n",
        "MOD_dry = MOD.filterDate('2019-07-15', '2020-08-31').min()\n",
        "\n",
        "\n",
        "# Make an Array Image, with a 1-D Array per pixel.\n",
        "arrayImage1D_wet = MOD_wet.toArray();\n",
        "arrayImage1D_dry = MOD_dry.toArray();\n",
        "\n",
        "# Make an Array Image with a 2-D Array per pixel, 6x1.\n",
        "arrayImage2D_wet = arrayImage1D_wet.toArray(1);\n",
        "arrayImage2D_dry = arrayImage1D_dry.toArray(1);\n",
        "\n",
        "TCW_Wet = ee.Image(coefficients).matrixMultiply(arrayImage2D_wet).arrayProject([0]).arrayFlatten(\n",
        "    [['brightness', 'greenness', 'wetness', 'fourth', 'fifth', 'sixth']]);\n",
        "\n",
        "TCW_Dry = ee.Image(coefficients).matrixMultiply(arrayImage2D_dry).arrayProject([0]).arrayFlatten(\n",
        "    [['brightness', 'greenness', 'wetness', 'fourth', 'fifth', 'sixth']]);\n",
        "\n",
        "vizParams_wetness = {\n",
        "  \"bands\": ['brightness', 'greenness', 'wetness'],\n",
        "  \"min\": 0., \"max\": [0.0, 0.0, 0.005]\n",
        "};\n",
        "vizParams_greeness = {\n",
        "  \"bands\": ['brightness', 'greenness', 'wetness'],\n",
        "  \"min\": -0.1, \"max\": [0.0, 0.001, 0.0]\n",
        "};\n",
        "\n",
        "myMap = folium.Map(location=[-18.8, -57], zoom_start=8, tiles='Stamen Terrain', control_scale=True, detect_retina=True,width=600, height=600)\n",
        "myMap.setOptions('HYBRID')\n",
        "\n",
        "#myMap.addLayer(MOD_wet, {\"bands\": ['B4'], \"min\": 0, \"max\":  0.1}, 'Landsat Wet');\n",
        "myMap.addLayer(MOD_wet, {\"bands\": ['B4', 'B3', 'B2'], \"min\": 0, \"max\": [0.4, 0.4, 0.4], \"gamma\": [1.1, 1.2, 0.9]}, 'Landsat Wet');\n",
        "myMap.addLayer(TCW_Wet, vizParams_wetness, 'TCW Wet');\n",
        "myMap.addLayer(TCW_Dry, vizParams_wetness, 'TCW Dry');\n",
        "\n",
        "# Add a layer control widget to the map\n",
        "folium.LayerControl().add_to(myMap)\n",
        "\n",
        "# Show the map!\n",
        "display(myMap)\n"
      ],
      "execution_count": 90,
      "outputs": [
        {
          "output_type": "display_data",
          "data": {
            "text/html": [
              "<div style=\"width:100%;\"><div style=\"position:relative;width:100%;height:0;padding-bottom:60%;\"><span style=\"color:#565656\">Make this Notebook Trusted to load map: File -> Trust Notebook</span><iframe src=\"about:blank\" style=\"position:absolute;width:100%;height:100%;left:0;top:0;border:none !important;\" data-html=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 onload=\"this.contentDocument.open();this.contentDocument.write(atob(this.getAttribute('data-html')));this.contentDocument.close();\" allowfullscreen webkitallowfullscreen mozallowfullscreen></iframe></div></div>"
            ],
            "text/plain": [
              "<folium.folium.Map at 0x7fe386ffd630>"
            ]
          },
          "metadata": {
            "tags": []
          }
        }
      ]
    }
  ]
}